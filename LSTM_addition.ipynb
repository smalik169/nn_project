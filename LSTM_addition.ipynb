{
 "cells": [
  {
   "cell_type": "markdown",
   "metadata": {},
   "source": [
    "#Neural Networks alternative project - LSTM"
   ]
  },
  {
   "cell_type": "code",
   "execution_count": 1,
   "metadata": {
    "collapsed": false
   },
   "outputs": [
    {
     "name": "stdout",
     "output_type": "stream",
     "text": [
      "Populating the interactive namespace from numpy and matplotlib\n",
      "Couldn't import dot_parser, loading of dot files will not be possible.\n"
     ]
    },
    {
     "name": "stderr",
     "output_type": "stream",
     "text": [
      "Vendor:  Continuum Analytics, Inc.\n",
      "Package: mkl\n",
      "Message: trial mode expires in 28 days\n",
      "Vendor:  Continuum Analytics, Inc.\n",
      "Package: mkl\n",
      "Message: trial mode expires in 28 days\n"
     ]
    }
   ],
   "source": [
    "%pylab inline\n",
    "\n",
    "import theano\n",
    "import theano.tensor as TT\n",
    "\n",
    "debug = True # global var to control debugging\n",
    "theano.config.compute_test_value = 'warn' "
   ]
  },
  {
   "cell_type": "code",
   "execution_count": 2,
   "metadata": {
    "collapsed": true
   },
   "outputs": [],
   "source": [
    "#\n",
    "# These are taken from https://github.com/mila-udem/blocks\n",
    "# \n",
    "\n",
    "class Constant():\n",
    "    \"\"\"Initialize parameters to a constant.\n",
    "    The constant may be a scalar or a :class:`~numpy.ndarray` of any shape\n",
    "    that is broadcastable with the requested parameter arrays.\n",
    "    Parameters\n",
    "    ----------\n",
    "    constant : :class:`~numpy.ndarray`\n",
    "        The initialization value to use. Must be a scalar or an ndarray (or\n",
    "        compatible object, such as a nested list) that has a shape that is\n",
    "        broadcastable with any shape requested by `initialize`.\n",
    "    \"\"\"\n",
    "    def __init__(self, constant):\n",
    "        self._constant = numpy.asarray(constant)\n",
    "\n",
    "    def generate(self, rng, shape):\n",
    "        dest = numpy.empty(shape, dtype=np.float32)\n",
    "        dest[...] = self._constant\n",
    "        return dest\n",
    "\n",
    "\n",
    "class IsotropicGaussian():\n",
    "    \"\"\"Initialize parameters from an isotropic Gaussian distribution.\n",
    "    Parameters\n",
    "    ----------\n",
    "    std : float, optional\n",
    "        The standard deviation of the Gaussian distribution. Defaults to 1.\n",
    "    mean : float, optional\n",
    "        The mean of the Gaussian distribution. Defaults to 0\n",
    "    Notes\n",
    "    -----\n",
    "    Be careful: the standard deviation goes first and the mean goes\n",
    "    second!\n",
    "    \"\"\"\n",
    "    def __init__(self, std=1, mean=0):\n",
    "        self._mean = mean\n",
    "        self._std = std\n",
    "\n",
    "    def generate(self, rng, shape):\n",
    "        m = rng.normal(self._mean, self._std, size=shape)\n",
    "        return m.astype(np.float32)\n",
    "\n",
    "\n",
    "class Uniform():\n",
    "    \"\"\"Initialize parameters from a uniform distribution.\n",
    "    Parameters\n",
    "    ----------\n",
    "    mean : float, optional\n",
    "        The mean of the uniform distribution (i.e. the center of mass for\n",
    "        the density function); Defaults to 0.\n",
    "    width : float, optional\n",
    "        One way of specifying the range of the uniform distribution. The\n",
    "        support will be [mean - width/2, mean + width/2]. **Exactly one**\n",
    "        of `width` or `std` must be specified.\n",
    "    std : float, optional\n",
    "        An alternative method of specifying the range of the uniform\n",
    "        distribution. Chooses the width of the uniform such that random\n",
    "        variates will have a desired standard deviation. **Exactly one** of\n",
    "        `width` or `std` must be specified.\n",
    "    \"\"\"\n",
    "    def __init__(self, mean=0., width=None, std=None):\n",
    "        if (width is not None) == (std is not None):\n",
    "            raise ValueError(\"must specify width or std, \"\n",
    "                             \"but not both\")\n",
    "        if std is not None:\n",
    "            # Variance of a uniform is 1/12 * width^2\n",
    "            self._width = numpy.sqrt(12) * std\n",
    "        else:\n",
    "            self._width = width\n",
    "        self._mean = mean\n",
    "\n",
    "    def generate(self, rng, shape):\n",
    "        w = self._width / 2\n",
    "        m = rng.uniform(self._mean - w, self._mean + w, size=shape)\n",
    "        return m.astype(np.float32)"
   ]
  },
  {
   "cell_type": "code",
   "execution_count": 3,
   "metadata": {
    "collapsed": true
   },
   "outputs": [],
   "source": [
    "def default(var, val):\n",
    "    if var is None:\n",
    "        return val\n",
    "    else:\n",
    "        return var"
   ]
  },
  {
   "cell_type": "code",
   "execution_count": 4,
   "metadata": {
    "collapsed": true
   },
   "outputs": [],
   "source": [
    "class Layer(object):\n",
    "    def __init__(self, rng=None):\n",
    "        if rng is None:\n",
    "            rng = numpy.random\n",
    "        self.rng = rng\n",
    "        self._parameters = []\n",
    "    \n",
    "    @property\n",
    "    def parameters(self):\n",
    "        return self._parameters\n",
    "    \n",
    "    def add_param(self, name, shape, initializer, dtype='float32'):\n",
    "        param = theano.shared(numpy.zeros(\n",
    "            shape, dtype=dtype), name=name)\n",
    "        param.tag.initializer = initializer\n",
    "        self._parameters.append(param)\n",
    "        setattr(self, name, param)\n",
    "        \n",
    "    def initialize(self):\n",
    "        for p in self.parameters:\n",
    "            p.set_value(p.tag.initializer.generate(self.rng, p.get_value().shape))\n",
    "\n",
    "\n",
    "class RecurrentLayer(Layer):\n",
    "    def __init__(self, **kwargs):\n",
    "        super(RecurrentLayer, self).__init__(**kwargs)\n",
    "        self.initial_states = []\n",
    "    \n",
    "    def apply(self, X, **kwargs):\n",
    "        batch_size = X.shape[1]\n",
    "        outputs_info = []\n",
    "        for h in self.initial_states:\n",
    "            h0 = TT.repeat(h, batch_size, axis=0)\n",
    "            outputs_info.append(dict(initial=h0))\n",
    "        \n",
    "        #\n",
    "        # Scan in theano takes a function which performs a single step of the\n",
    "        # recurrent computation. Subclasses just need to provide the\n",
    "        # self.transition function.\n",
    "        #\n",
    "        scan_result, scan_updates = theano.scan(\n",
    "            self.transition,\n",
    "            sequences=X,\n",
    "            outputs_info=outputs_info,\n",
    "            **kwargs\n",
    "            )\n",
    "        # Note: this in general will not be the case and we will need to\n",
    "        # make sure that the updates are given to theano.function\n",
    "        assert not scan_updates\n",
    "        return scan_result\n",
    "\n",
    "\n",
    "class MergeInputHiddens(Layer):\n",
    "    \"\"\"\n",
    "    Merge two sequences - inputs and hidden states and produce an output.\n",
    "    \n",
    "    \"\"\"\n",
    "    def __init__(self, in_dim, hidden_dim, out_dim, weight_init=None, bias_init=None, **kwargs):\n",
    "        super(MergeInputHiddens, self).__init__(**kwargs)\n",
    "        weight_init = default(weight_init, IsotropicGaussian(1.0/sqrt(in_dim+hidden_dim)))\n",
    "        bias_init = default(weight_init, Constant(0.))\n",
    "        \n",
    "        # Input to output\n",
    "        self.add_param('Wxo', (in_dim, out_dim), weight_init)\n",
    "        \n",
    "        # Hidden to output\n",
    "        self.add_param('Who', (hidden_dim, out_dim), weight_init)\n",
    "        \n",
    "        # Output bias\n",
    "        self.add_param('Bo', (out_dim,), bias_init)\n",
    "        \n",
    "    def apply(self, X, H):\n",
    "        # Get the shape\n",
    "        nsteps, bs, nin = X.shape\n",
    "        nhid = H.shape[2]\n",
    "        \n",
    "        # Note - we flatten the steps and batch size\n",
    "        # as the computation of outputs can be performed in \n",
    "        # parallel for all time steps.\n",
    "        \n",
    "        O = (X.reshape((nsteps*bs, nin)).dot(self.Wxo) + \n",
    "             H.reshape((nsteps*bs, nhid)).dot(self.Who) +\n",
    "             self.Bo)\n",
    "        return O.reshape((nsteps, bs, O.shape[1]))\n",
    "    \n",
    "class Chain(Layer):\n",
    "    def __init__(self, **kwargs):\n",
    "        super(Chain, self).__init__(**kwargs)\n",
    "        self.children = []\n",
    "        \n",
    "    @property\n",
    "    def parameters(self):\n",
    "        ret = list(self._parameters)\n",
    "        for c in self.children:\n",
    "            ret.extend(c.parameters)\n",
    "        return ret"
   ]
  },
  {
   "cell_type": "code",
   "execution_count": 5,
   "metadata": {
    "collapsed": true
   },
   "outputs": [],
   "source": [
    "class LSTM_RNN(RecurrentLayer):\n",
    "    \"\"\"\n",
    "    Implementation follows Alex Graves, Abdel-rahman Mohamed and Geoffrey Hinton\n",
    "    \"SPEECH RECOGNITION WITH DEEP RECURRENT NEURAL NETWORKS\"\n",
    "    http://www.cs.toronto.edu/~fritz/absps/RNN13.pdf\n",
    "    \"\"\"\n",
    "    def __init__(self, in_dim, hidden_dim,\n",
    "                 hidden_activation=TT.tanh,\n",
    "                 rec_weight_init=None,\n",
    "                 weight_init=None, bias_init=None, \n",
    "                 forget_bias_init=None, \n",
    "                 **kwargs):\n",
    "        super(LSTM_RNN, self).__init__(**kwargs)\n",
    "        \n",
    "        rec_weight_init = default(rec_weight_init, IsotropicGaussian(std=0.01))\n",
    "        weight_init = default(weight_init, IsotropicGaussian(std=0.01))\n",
    "        bias_init = default(weight_init, Constant(0.))\n",
    "        forget_bias_init = default(weight_init, Constant(1.))\n",
    "        self.hidden_activation = hidden_activation\n",
    "        \n",
    "        #\n",
    "        # Gates\n",
    "        #\n",
    "        \n",
    "        for gate in 'ifo':\n",
    "            self.add_param('Wx' + gate, (in_dim, hidden_dim), weight_init)\n",
    "            self.add_param('Wh' + gate, (hidden_dim, hidden_dim), weight_init)\n",
    "            # Note: a cell is only connected to its own gates\n",
    "            # Wc... are diagonal - so we allocate only a vector\n",
    "            # for them\n",
    "            self.add_param('Wc' + gate, (hidden_dim,), weight_init)\n",
    "            self.add_param('B' + gate, (hidden_dim,), bias_init)\n",
    "        \n",
    "        #\n",
    "        # Note - forget gate bias has a different initializer, because\n",
    "        # we often want to initialize it to 1\n",
    "        #\n",
    "        self.Bf.tag.initializer = forget_bias_init\n",
    "        \n",
    "        # Cell\n",
    "        self.add_param('Wxc', (in_dim, hidden_dim), weight_init)\n",
    "        self.add_param('Whc', (hidden_dim, hidden_dim), weight_init)\n",
    "        self.add_param('Bc', (hidden_dim,), bias_init)\n",
    "        \n",
    "        # Initial states\n",
    "        self.add_param('h0', (1, hidden_dim), bias_init)\n",
    "        self.initial_states.append(self.h0)\n",
    "        \n",
    "        self.add_param('c0', (1, hidden_dim), bias_init)\n",
    "        self.initial_states.append(self.c0)\n",
    "        \n",
    "        \n",
    "    def transition(self, x, h, c):\n",
    "        \"\"\"\n",
    "        One step of LSTM transition.\n",
    "        \n",
    "        x is the previous input\n",
    "        h is the previous hidden state\n",
    "        c is the previous memory cell content\n",
    "        \"\"\"\n",
    "        \n",
    "        #\n",
    "        # Please note:\n",
    "        # The implementation below is not speed-optimal\n",
    "        # usually, it pays off to group similar matrix multiplications\n",
    "        # by grouping gates.\n",
    "        #\n",
    "        # Also, input-related computations should be moved out of scan since\n",
    "        # they can be done for all steps in parallel.\n",
    "        #\n",
    "        \n",
    "        s = lambda x: 1.2*TT.nnet.sigmoid(x) - 0.1\n",
    "\n",
    "        # Note: for cells we do element wise multiplication which \n",
    "        # is equvalent to a matrix multiplication with a diagonal matrix!\n",
    "        i = s(x.dot(self.Wxi) + h.dot(self.Whi) + c*self.Wci + self.Bi)\n",
    "        f = s(x.dot(self.Wxf) + h.dot(self.Whf) + c*self.Wcf + self.Bf)\n",
    "        \n",
    "        c_new = f*c + i*self.hidden_activation(x.dot(self.Wxc) + h.dot(self.Whc) + self.Bc)\n",
    "        o = s(x.dot(self.Wxo) + h.dot(self.Who) + c_new*self.Wco + self.Bo)\n",
    "        h_new = o * self.hidden_activation(c_new)\n",
    "        \n",
    "        return h_new, c_new"
   ]
  },
  {
   "cell_type": "code",
   "execution_count": 6,
   "metadata": {
    "collapsed": true
   },
   "outputs": [],
   "source": [
    "class Trainer(object):\n",
    "    \"\"\"\n",
    "    This class computes the updates to parameters using the RMSProp learning rule and adding weight decay.\n",
    "    \n",
    "    \"\"\"\n",
    "    def __init__(self, net_loss, parameters, inputs):\n",
    "        self.RMSProp_dec_rate = theano.shared(np.array(0.9, dtype='float32'))\n",
    "        self.RMSProp_epsilon = theano.shared(np.array(1e-5, dtype='float32'))\n",
    "        self.lrate = theano.shared(np.array(1e-2, dtype='float32'))\n",
    "        self.max_grad_norm = theano.shared(np.array(1., dtype='float32'))\n",
    "        self.wdec = theano.shared(np.array(0., dtype='float32'))\n",
    "\n",
    "        theano.config.compute_test_value='off' # Turn off for gradient computation\n",
    "        \n",
    "        wdec_loss = 0\n",
    "        for p in parameters:\n",
    "            if p.name[0]=='W':\n",
    "                wdec_loss = wdec_loss + (p**2).sum()*self.wdec\n",
    "        \n",
    "        grads = theano.grad(net_loss + wdec_loss, parameters)\n",
    "        updates = []\n",
    "\n",
    "        grad_norm = 0.\n",
    "        \n",
    "        #rs = TT.shared_randomstreams.RandomStreams(seed=2568)\n",
    "        \n",
    "        for g in grads:\n",
    "            grad_norm = grad_norm + (g**2).sum()\n",
    "        \n",
    "\n",
    "        for g,p in zip(grads, parameters):\n",
    "            step = g #+ rs.normal(size=g.shape, avg=0.0, std=0.01)\n",
    "            step = g / TT.maximum(1.0, grad_norm/self.max_grad_norm)\n",
    "            if 1:\n",
    "                g2 = theano.shared(p.get_value() * 0., name=p.name + '_g2')\n",
    "                g2_new = (self.RMSProp_dec_rate * g2 + (1.0 - self.RMSProp_dec_rate) * g**2) \n",
    "                updates.append((g2, g2_new))\n",
    "                step = step / TT.sqrt(g2_new + self.RMSProp_epsilon)\n",
    "\n",
    "            step = self.lrate * step\n",
    "            updates.append((p, p - step))\n",
    "\n",
    "        self.train_function = theano.function(inputs, \n",
    "                                              [net_loss, net_loss + wdec_loss, grad_norm], \n",
    "                                              updates=updates)"
   ]
  },
  {
   "cell_type": "code",
   "execution_count": 7,
   "metadata": {
    "collapsed": false
   },
   "outputs": [],
   "source": [
    "class AdditionNet(Chain):\n",
    "    def __init__(self, hidden_dim, num_layers=1,\n",
    "                 use_lstm=True,\n",
    "                 **kwargs):\n",
    "        super(AdditionNet, self).__init__(**kwargs)\n",
    "        self.use_lstm = use_lstm\n",
    "        self.recs = []\n",
    "        \n",
    "        #\n",
    "        # Here we introduce a multilayer LSTM network. We simply feed the hidden states of the\n",
    "        # lower layers as the inputs of the higher ones. Optionally, the inputs can also be connected\n",
    "        # to the upper layers (not implemented in the code).\n",
    "        #\n",
    "        \n",
    "        for hid in xrange(num_layers):\n",
    "            if hid == 0:\n",
    "                in_dim = 2\n",
    "            else:\n",
    "                in_dim = hidden_dim\n",
    "            if use_lstm:\n",
    "                rec = LSTM_RNN(in_dim=in_dim, hidden_dim=hidden_dim,\n",
    "                               rec_weight_init=IsotropicGaussian(std=np.sqrt(6.0/(in_dim+hidden_dim))),\n",
    "                               weight_init=IsotropicGaussian(std=np.sqrt(6.0/(in_dim+hidden_dim))))\n",
    "            else:\n",
    "                rec = SimpleRNN(in_dim=in_dim, hidden_dim=hidden_dim)\n",
    "            self.recs.append(rec)\n",
    "            self.children.append(rec)\n",
    "        \n",
    "        self.merge = MergeInputHiddens(in_dim=2, hidden_dim=hidden_dim, out_dim=1)\n",
    "        self.children.append(self.merge)\n",
    "        \n",
    "        self.X = TT.tensor3('X')\n",
    "        self.Y = TT.matrix('Y')\n",
    "        \n",
    "        self.inputs = [self.X, self.Y]\n",
    "    \n",
    "    def apply(self, X):\n",
    "        H = X\n",
    "        for rec in self.recs:\n",
    "            H = rec.apply(H)\n",
    "            if self.use_lstm: # we don't use cell contents\n",
    "                H = H[0]\n",
    "        O = self.merge.apply(X[-1:], H[-1:])\n",
    "        return O\n",
    "\n",
    "    def get_loss(self):\n",
    "        net_output = self.apply(self.X)\n",
    "        return ((net_output - self.Y)**2).mean()\n",
    "    \n",
    "    def get_prediction(self):\n",
    "        return self.apply(self.X)"
   ]
  },
  {
   "cell_type": "code",
   "execution_count": 8,
   "metadata": {
    "collapsed": false
   },
   "outputs": [
    {
     "name": "stdout",
     "output_type": "stream",
     "text": [
      "X: [[ 1.          0.78095645]\n",
      " [ 1.          0.51783735]\n",
      " [ 0.          0.97049165]\n",
      " [ 0.          0.04075842]\n",
      " [ 0.          0.95107001]\n",
      " [ 0.          0.5534125 ]\n",
      " [ 0.          0.2203576 ]\n",
      " [ 0.          0.69852966]\n",
      " [ 0.          0.76626372]\n",
      " [ 0.          0.70823675]] \n",
      "Y: [ 1.29879379]\n"
     ]
    }
   ],
   "source": [
    "def gen_addition_example(T, batchsize):\n",
    "    rng = numpy.random\n",
    "    \n",
    "    l = rng.randint(T, int(T * 1.1+0.9))\n",
    "    p0 = rng.randint(0, int(l*.1), size=(batchsize,))\n",
    "    p1 = rng.randint(0, int(l*.4), size=(batchsize,)) + int(l*.1)\n",
    "    \n",
    "    X = rng.uniform(size=(l, batchsize, 2)).astype('float32')\n",
    "    X[:,:,0] = 0.\n",
    "    X[p0, numpy.arange(batchsize), numpy.zeros((batchsize,), dtype='int32')] = 1.\n",
    "    X[p1, numpy.arange(batchsize), numpy.zeros((batchsize,), dtype='int32')] = 1.\n",
    "\n",
    "    Y = (X[p0, numpy.arange(batchsize), \n",
    "           numpy.ones((batchsize,), dtype='int32')] + X[p1, numpy.arange(batchsize),\n",
    "           numpy.ones((batchsize,), dtype='int32')])#/2.\n",
    "    return X, Y.reshape((-1,1)).astype('float32')\n",
    "\n",
    "Xa,Ya = gen_addition_example(10, 3)\n",
    "print 'X:', Xa[:,0,:], '\\nY:', Ya[0,:]"
   ]
  },
  {
   "cell_type": "code",
   "execution_count": 9,
   "metadata": {
    "collapsed": false
   },
   "outputs": [
    {
     "name": "stdout",
     "output_type": "stream",
     "text": [
      "X: [[ 0.          0.67482436]\n",
      " [ 0.          0.32540825]\n",
      " [ 0.          0.67874742]\n",
      " [ 1.          0.91665357]\n",
      " [ 0.          0.87246037]\n",
      " [ 0.          0.9350369 ]\n",
      " [ 0.          0.75230014]\n",
      " [ 0.          0.49452159]\n",
      " [ 0.          0.50290304]\n",
      " [ 1.          0.49849886]] \n",
      "Y: [ 1.41515243]\n"
     ]
    }
   ],
   "source": [
    "def generate_addition_example(T, batchsize, p=0.3):\n",
    "    rng = numpy.random\n",
    "    \n",
    "    x = rng.uniform(size=(batchsize, T)).astype('float32')\n",
    "    #y = rng.binomial(1, p, size=(batchsize, T))\n",
    "\n",
    "    i1 = rng.randint(0,T/2, batchsize)\n",
    "    i2 = rng.randint(T/2, T, batchsize)\n",
    "\n",
    "    y = np.zeros((batchsize, T))\n",
    "    y[np.arange(batchsize), i1] = 1\n",
    "    y[np.arange(batchsize), i2] = 1\n",
    "\n",
    "    X = np.array([y,x], dtype='float32')\n",
    "    Y = (x*y).sum(axis=1, keepdims=True, dtype='float32')\n",
    "    \n",
    "    return X.T, Y\n",
    "\n",
    "\n",
    "Xa,Ya = generate_addition_example(10, 3)\n",
    "print 'X:', Xa[:,0,:], '\\nY:', Ya[0,:]"
   ]
  },
  {
   "cell_type": "code",
   "execution_count": 10,
   "metadata": {
    "collapsed": false
   },
   "outputs": [
    {
     "name": "stdout",
     "output_type": "stream",
     "text": [
      "1.65228176117\n"
     ]
    },
    {
     "name": "stderr",
     "output_type": "stream",
     "text": [
      "/pio/os/anaconda/lib/python2.7/site-packages/theano/gof/cmodule.py:293: RuntimeWarning: numpy.ndarray size changed, may indicate binary incompatibility\n",
      "  rval = __import__(module_name, {}, {}, [module_name])\n"
     ]
    }
   ],
   "source": [
    "theano.config.compute_test_value='off'\n",
    "theano.config.print_test_value=True\n",
    "debug = False\n",
    "\n",
    "addition_net = AdditionNet(hidden_dim=128, use_lstm=True)\n",
    "addition_net.initialize()\n",
    "\n",
    "addition_net_prediction = addition_net.get_prediction()\n",
    "addition_prediction_function = theano.function([addition_net.X], addition_net_prediction)\n",
    "\n",
    "addition_net_loss = addition_net.get_loss()\n",
    "addition_test_function = theano.function(addition_net.inputs, addition_net_loss)\n",
    "\n",
    "Xa, Ya = gen_addition_example(10,20)\n",
    "print addition_test_function(Xa, Ya)"
   ]
  },
  {
   "cell_type": "code",
   "execution_count": 11,
   "metadata": {
    "collapsed": false
   },
   "outputs": [],
   "source": [
    "addition_trainer = Trainer(addition_net_loss, addition_net.parameters, addition_net.inputs)"
   ]
  },
  {
   "cell_type": "code",
   "execution_count": 12,
   "metadata": {
    "collapsed": false,
    "scrolled": true
   },
   "outputs": [
    {
     "name": "stdout",
     "output_type": "stream",
     "text": [
      "0 [array(1.6149386167526245, dtype=float32), array(1.9259439706802368, dtype=float32), array(405.6430358886719, dtype=float32)]\n",
      "500 [array(0.15606465935707092, dtype=float32), array(0.3920886814594269, dtype=float32), array(0.3616131842136383, dtype=float32)]\n",
      "1000 [array(0.13039834797382355, dtype=float32), array(0.25669631361961365, dtype=float32), array(0.005762946326285601, dtype=float32)]\n",
      "1500 [array(0.1810222864151001, dtype=float32), array(0.24864710867404938, dtype=float32), array(0.45726674795150757, dtype=float32)]\n",
      "2000 [array(0.18461807072162628, dtype=float32), array(0.22082793712615967, dtype=float32), array(0.06971042603254318, dtype=float32)]\n",
      "2500 [array(0.17097461223602295, dtype=float32), array(0.19044753909111023, dtype=float32), array(0.0025131870061159134, dtype=float32)]\n",
      "3000 [array(0.13598152995109558, dtype=float32), array(0.146625816822052, dtype=float32), array(0.004242995288223028, dtype=float32)]\n",
      "3500 [array(0.1890420913696289, dtype=float32), array(0.1948886215686798, dtype=float32), array(0.08868081867694855, dtype=float32)]\n",
      "4000 [array(0.17776331305503845, dtype=float32), array(0.1809929609298706, dtype=float32), array(0.0006347896996885538, dtype=float32)]\n",
      "4500 [array(0.16276498138904572, dtype=float32), array(0.16458818316459656, dtype=float32), array(0.012612326070666313, dtype=float32)]\n",
      "5000 [array(0.1647442877292633, dtype=float32), array(0.16577373445034027, dtype=float32), array(0.002846882212907076, dtype=float32)]\n",
      "5500 [array(0.1722155511379242, dtype=float32), array(0.17287203669548035, dtype=float32), array(0.01995033025741577, dtype=float32)]\n",
      "6000 [array(0.1759403645992279, dtype=float32), array(0.1763887107372284, dtype=float32), array(0.012485561892390251, dtype=float32)]\n",
      "6500 [array(0.18958166241645813, dtype=float32), array(0.18989060819149017, dtype=float32), array(0.0034773959778249264, dtype=float32)]\n",
      "7000 [array(0.1687282919883728, dtype=float32), array(0.16892528533935547, dtype=float32), array(0.004021656699478626, dtype=float32)]\n",
      "7500 [array(0.13645315170288086, dtype=float32), array(0.13658268749713898, dtype=float32), array(0.013601542450487614, dtype=float32)]\n",
      "8000 [array(0.16443076729774475, dtype=float32), array(0.1645263135433197, dtype=float32), array(0.0018109651282429695, dtype=float32)]\n",
      "8500 [array(0.14904282987117767, dtype=float32), array(0.14912256598472595, dtype=float32), array(0.001151214586570859, dtype=float32)]\n",
      "9000 [array(0.14478546380996704, dtype=float32), array(0.14484615623950958, dtype=float32), array(0.05526871979236603, dtype=float32)]\n",
      "9500 [array(0.17275960743427277, dtype=float32), array(0.172822505235672, dtype=float32), array(0.006829265505075455, dtype=float32)]\n",
      "10000 [array(0.199621319770813, dtype=float32), array(0.19969116151332855, dtype=float32), array(0.04466034471988678, dtype=float32)]\n",
      "10500 [array(0.15634456276893616, dtype=float32), array(0.1564096212387085, dtype=float32), array(0.0718870759010315, dtype=float32)]\n",
      "11000 [array(0.12877091765403748, dtype=float32), array(0.12884783744812012, dtype=float32), array(0.0004027967806905508, dtype=float32)]\n",
      "11500 [array(0.17419590055942535, dtype=float32), array(0.17427761852741241, dtype=float32), array(0.02144537679851055, dtype=float32)]\n",
      "12000 [array(0.2002677470445633, dtype=float32), array(0.20035094022750854, dtype=float32), array(0.011534541845321655, dtype=float32)]\n",
      "12500 [array(0.17339666187763214, dtype=float32), array(0.17350108921527863, dtype=float32), array(0.024860532954335213, dtype=float32)]\n",
      "13000 [array(0.18533393740653992, dtype=float32), array(0.18550178408622742, dtype=float32), array(0.0029921988025307655, dtype=float32)]\n",
      "13500 [array(0.18134889006614685, dtype=float32), array(0.1818181574344635, dtype=float32), array(0.04825206473469734, dtype=float32)]\n",
      "14000 [array(0.17201438546180725, dtype=float32), array(0.17298752069473267, dtype=float32), array(0.010340694338083267, dtype=float32)]\n",
      "14500 [array(0.04707539081573486, dtype=float32), array(0.049228131771087646, dtype=float32), array(1.2003614902496338, dtype=float32)]\n",
      "15000 [array(0.02657531201839447, dtype=float32), array(0.02924814447760582, dtype=float32), array(0.8755567669868469, dtype=float32)]\n",
      "15500 [array(0.03675511106848717, dtype=float32), array(0.0400027260184288, dtype=float32), array(1.8199176788330078, dtype=float32)]\n",
      "16000 [array(0.014956967905163765, dtype=float32), array(0.018635597079992294, dtype=float32), array(1.00483238697052, dtype=float32)]\n",
      "16500 [array(0.010423959232866764, dtype=float32), array(0.014191366732120514, dtype=float32), array(0.15825919806957245, dtype=float32)]\n",
      "17000 [array(0.009010663256049156, dtype=float32), array(0.012735354714095592, dtype=float32), array(0.2748536765575409, dtype=float32)]\n",
      "17500 [array(0.00401957705616951, dtype=float32), array(0.0075599621050059795, dtype=float32), array(0.05322971194982529, dtype=float32)]\n",
      "18000 [array(0.007553480099886656, dtype=float32), array(0.010909749194979668, dtype=float32), array(0.30571913719177246, dtype=float32)]\n",
      "18500 [array(0.004091499838978052, dtype=float32), array(0.007253312971442938, dtype=float32), array(0.05600256472826004, dtype=float32)]\n",
      "19000 [array(0.007206507958471775, dtype=float32), array(0.010248764418065548, dtype=float32), array(0.1615811288356781, dtype=float32)]\n",
      "19500 [array(0.004233254119753838, dtype=float32), array(0.007185513619333506, dtype=float32), array(0.09450864791870117, dtype=float32)]\n",
      "20000 [array(0.006381748244166374, dtype=float32), array(0.009312734007835388, dtype=float32), array(0.1548258364200592, dtype=float32)]\n",
      "20500 [array(0.0033241629134863615, dtype=float32), array(0.006207296159118414, dtype=float32), array(0.06551370769739151, dtype=float32)]\n",
      "21000 [array(0.003481292398646474, dtype=float32), array(0.006352943368256092, dtype=float32), array(0.06466604024171829, dtype=float32)]\n",
      "21500 [array(0.005118780769407749, dtype=float32), array(0.007943503558635712, dtype=float32), array(0.11690570414066315, dtype=float32)]\n",
      "22000 [array(0.0019880803301930428, dtype=float32), array(0.004808264318853617, dtype=float32), array(0.015369614586234093, dtype=float32)]\n",
      "22500 [array(0.002926121698692441, dtype=float32), array(0.005718819331377745, dtype=float32), array(0.05027453973889351, dtype=float32)]\n",
      "23000 [array(0.0027903872542083263, dtype=float32), array(0.005575703922659159, dtype=float32), array(0.059637293219566345, dtype=float32)]\n",
      "23500 [array(0.010298832319676876, dtype=float32), array(0.013090617954730988, dtype=float32), array(0.2507215440273285, dtype=float32)]\n",
      "24000 [array(0.0017048049485310912, dtype=float32), array(0.0044704098254442215, dtype=float32), array(0.023167897015810013, dtype=float32)]\n",
      "24500 [array(0.007814006879925728, dtype=float32), array(0.010545327328145504, dtype=float32), array(0.2372271865606308, dtype=float32)]\n",
      "25000 [array(0.002227060031145811, dtype=float32), array(0.004968162626028061, dtype=float32), array(0.029721666127443314, dtype=float32)]\n",
      "25500 [array(0.007707685232162476, dtype=float32), array(0.010423334315419197, dtype=float32), array(0.29810336232185364, dtype=float32)]\n",
      "26000 [array(0.0024370145983994007, dtype=float32), array(0.005157009232789278, dtype=float32), array(0.05507643520832062, dtype=float32)]\n",
      "26500 [array(0.0032286811619997025, dtype=float32), array(0.005951766390353441, dtype=float32), array(0.06676127016544342, dtype=float32)]\n",
      "27000 [array(0.0020829078275710344, dtype=float32), array(0.004775157663971186, dtype=float32), array(0.030946869403123856, dtype=float32)]\n",
      "27500 [array(0.0064432998187839985, dtype=float32), array(0.009130038321018219, dtype=float32), array(0.10404182225465775, dtype=float32)]\n",
      "28000 [array(0.0035306080244481564, dtype=float32), array(0.006230581551790237, dtype=float32), array(0.08718981593847275, dtype=float32)]\n",
      "28500 [array(0.0049727619625627995, dtype=float32), array(0.007672485895454884, dtype=float32), array(0.10005251318216324, dtype=float32)]\n",
      "29000 [array(0.003809542628005147, dtype=float32), array(0.006538286339491606, dtype=float32), array(0.08961654454469681, dtype=float32)]\n",
      "29500 [array(0.001381800975650549, dtype=float32), array(0.004095855634659529, dtype=float32), array(0.00887562707066536, dtype=float32)]\n",
      "30000 [array(0.0030888032633811235, dtype=float32), array(0.00579610001295805, dtype=float32), array(0.06801828742027283, dtype=float32)]\n",
      "30500 [array(0.0021370116155594587, dtype=float32), array(0.0048567187041044235, dtype=float32), array(0.03584185987710953, dtype=float32)]\n",
      "31000 [array(0.002781377173960209, dtype=float32), array(0.005498293787240982, dtype=float32), array(0.06042744964361191, dtype=float32)]\n",
      "31500 [array(0.004951909650117159, dtype=float32), array(0.00767600629478693, dtype=float32), array(0.15830464661121368, dtype=float32)]\n"
     ]
    },
    {
     "data": {
      "text/plain": [
       "<matplotlib.text.Text at 0x7f131dbfbcd0>"
      ]
     },
     "execution_count": 12,
     "metadata": {},
     "output_type": "execute_result"
    },
    {
     "data": {
      "image/png": "[encoded data removed]",
      "text/plain": [
       "<matplotlib.figure.Figure at 0x7f12d03a1790>"
      ]
     },
     "metadata": {},
     "output_type": "display_data"
    }
   ],
   "source": [
    "addition_net.initialize()\n",
    "\n",
    "# you can tweek the learning rate. 1e-2 worked best for me\n",
    "if addition_net.use_lstm:\n",
    "    addition_trainer.lrate.set_value(1e-2)\n",
    "else:\n",
    "    addition_trainer.lrate.set_value(1e-3)\n",
    "addition_trainer.max_grad_norm.set_value(4.)\n",
    "# weight decay seems to be important for generalization\n",
    "addition_trainer.wdec.set_value(1e-4)\n",
    "\n",
    "losses = []\n",
    "\n",
    "\n",
    "try:\n",
    "    for i in xrange(300000):\n",
    "        this_len = 100\n",
    "        Xa, Ya = generate_addition_example(this_len, 100)\n",
    "        ret = addition_trainer.train_function(Xa, Ya)\n",
    "        losses.append((i,) + tuple(ret))\n",
    "        if ret[0] < 0.0002:\n",
    "            break\n",
    "        if i%500 == 0:\n",
    "            print i, ret\n",
    "\n",
    "except KeyboardInterrupt:\n",
    "    pass\n",
    "\n",
    "\n",
    "losses_a = np.array(losses)\n",
    "\n",
    "semilogy(losses_a[:,0], losses_a[:,1], label='rms')\n",
    "semilogy(losses_a[:,0], losses_a[:,1], alpha=0.5, label='rms + wdec')\n",
    "plot(losses_a[:,0], losses_a[:,2], alpha=0.5, label='grad norm')\n",
    "\n",
    "legend(loc='lower left')\n",
    "title('Training loss')\n",
    "xlabel('iteration')"
   ]
  },
  {
   "cell_type": "code",
   "execution_count": 18,
   "metadata": {
    "collapsed": false
   },
   "outputs": [
    {
     "data": {
      "text/plain": [
       "array(0.003566255560144782, dtype=float32)"
      ]
     },
     "execution_count": 18,
     "metadata": {},
     "output_type": "execute_result"
    }
   ],
   "source": [
    "Xa, Ya = generate_addition_example(50,100)\n",
    "addition_test_function(Xa, Ya)"
   ]
  },
  {
   "cell_type": "code",
   "execution_count": 19,
   "metadata": {
    "collapsed": false
   },
   "outputs": [
    {
     "name": "stdout",
     "output_type": "stream",
     "text": [
      "done\n"
     ]
    }
   ],
   "source": [
    "err_list = []\n",
    "for t in xrange(10,3011,50):\n",
    "    Xa, Ya = generate_addition_example(t,200)\n",
    "    err_list.append(addition_test_function(Xa, Ya))\n",
    "    \n",
    "print \"done\""
   ]
  },
  {
   "cell_type": "code",
   "execution_count": 20,
   "metadata": {
    "collapsed": false
   },
   "outputs": [
    {
     "data": {
      "text/plain": [
       "<matplotlib.legend.Legend at 0x7f12b24bdf10>"
      ]
     },
     "execution_count": 20,
     "metadata": {},
     "output_type": "execute_result"
    },
    {
     "data": {
      "image/png": "[encoded data removed]",
      "text/plain": [
       "<matplotlib.figure.Figure at 0x7f12b25cc350>"
      ]
     },
     "metadata": {},
     "output_type": "display_data"
    }
   ],
   "source": [
    "err_l = err_list\n",
    "semilogy(xrange(10, 3011, 50), err_l, label=\"mean square error\")\n",
    "semilogy(xrange(0, 3500, 50), [0.167]*len(xrange(0, 3500, 50)), label=\"base line (0.167)\")\n",
    "legend(loc=\"lower right\")"
   ]
  },
  {
   "cell_type": "code",
   "execution_count": 22,
   "metadata": {
    "collapsed": false
   },
   "outputs": [
    {
     "name": "stdout",
     "output_type": "stream",
     "text": [
      "done\n"
     ]
    }
   ],
   "source": [
    "err_list = []\n",
    "for t in xrange(10,1000,10):\n",
    "    Xa, Ya = generate_addition_example(t,200)\n",
    "    err_list.append(addition_test_function(Xa, Ya))\n",
    "    \n",
    "print \"done\""
   ]
  },
  {
   "cell_type": "code",
   "execution_count": 24,
   "metadata": {
    "collapsed": false
   },
   "outputs": [
    {
     "data": {
      "text/plain": [
       "<matplotlib.legend.Legend at 0x7f12b2057a10>"
      ]
     },
     "execution_count": 24,
     "metadata": {},
     "output_type": "execute_result"
    },
    {
     "data": {
      "image/png": "[encoded data removed]",
      "text/plain": [
       "<matplotlib.figure.Figure at 0x7f12b20ac850>"
      ]
     },
     "metadata": {},
     "output_type": "display_data"
    }
   ],
   "source": [
    "err_l = err_list\n",
    "semilogy(xrange(10, 500, 10), err_l[:len(xrange(10, 500, 10))], label=\"mean square error\")\n",
    "semilogy(xrange(0, 500, 10), [0.167]*len(xrange(0, 500, 10)), label=\"base line (0.167)\")\n",
    "legend(loc=\"lower right\")"
   ]
  },
  {
   "cell_type": "code",
   "execution_count": null,
   "metadata": {
    "collapsed": true
   },
   "outputs": [],
   "source": []
  }
 ],
 "metadata": {
  "kernelspec": {
   "display_name": "Python 2",
   "language": "python",
   "name": "python2"
  },
  "language_info": {
   "codemirror_mode": {
    "name": "ipython",
    "version": 2
   },
   "file_extension": ".py",
   "mimetype": "text/x-python",
   "name": "python",
   "nbconvert_exporter": "python",
   "pygments_lexer": "ipython2",
   "version": "2.7.10"
  }
 },
 "nbformat": 4,
 "nbformat_minor": 0
}
