{
 "cells": [
  {
   "cell_type": "markdown",
   "metadata": {},
   "source": [
    "#Neural Networks alternative project - LSTM"
   ]
  },
  {
   "cell_type": "code",
   "execution_count": 10,
   "metadata": {
    "collapsed": false
   },
   "outputs": [
    {
     "name": "stdout",
     "output_type": "stream",
     "text": [
      "Populating the interactive namespace from numpy and matplotlib\n"
     ]
    }
   ],
   "source": [
    "%pylab inline\n",
    "\n",
    "import theano\n",
    "import theano.tensor as TT\n",
    "\n",
    "debug = True # global var to control debugging\n",
    "theano.config.compute_test_value = 'warn' "
   ]
  },
  {
   "cell_type": "code",
   "execution_count": 11,
   "metadata": {
    "collapsed": true
   },
   "outputs": [],
   "source": [
    "#\n",
    "# These are taken from https://github.com/mila-udem/blocks\n",
    "# \n",
    "\n",
    "class Constant():\n",
    "    \"\"\"Initialize parameters to a constant.\n",
    "    The constant may be a scalar or a :class:`~numpy.ndarray` of any shape\n",
    "    that is broadcastable with the requested parameter arrays.\n",
    "    Parameters\n",
    "    ----------\n",
    "    constant : :class:`~numpy.ndarray`\n",
    "        The initialization value to use. Must be a scalar or an ndarray (or\n",
    "        compatible object, such as a nested list) that has a shape that is\n",
    "        broadcastable with any shape requested by `initialize`.\n",
    "    \"\"\"\n",
    "    def __init__(self, constant):\n",
    "        self._constant = numpy.asarray(constant)\n",
    "\n",
    "    def generate(self, rng, shape):\n",
    "        dest = numpy.empty(shape, dtype=np.float32)\n",
    "        dest[...] = self._constant\n",
    "        return dest\n",
    "\n",
    "\n",
    "class IsotropicGaussian():\n",
    "    \"\"\"Initialize parameters from an isotropic Gaussian distribution.\n",
    "    Parameters\n",
    "    ----------\n",
    "    std : float, optional\n",
    "        The standard deviation of the Gaussian distribution. Defaults to 1.\n",
    "    mean : float, optional\n",
    "        The mean of the Gaussian distribution. Defaults to 0\n",
    "    Notes\n",
    "    -----\n",
    "    Be careful: the standard deviation goes first and the mean goes\n",
    "    second!\n",
    "    \"\"\"\n",
    "    def __init__(self, std=1, mean=0):\n",
    "        self._mean = mean\n",
    "        self._std = std\n",
    "\n",
    "    def generate(self, rng, shape):\n",
    "        m = rng.normal(self._mean, self._std, size=shape)\n",
    "        return m.astype(np.float32)\n",
    "\n",
    "\n",
    "class Uniform():\n",
    "    \"\"\"Initialize parameters from a uniform distribution.\n",
    "    Parameters\n",
    "    ----------\n",
    "    mean : float, optional\n",
    "        The mean of the uniform distribution (i.e. the center of mass for\n",
    "        the density function); Defaults to 0.\n",
    "    width : float, optional\n",
    "        One way of specifying the range of the uniform distribution. The\n",
    "        support will be [mean - width/2, mean + width/2]. **Exactly one**\n",
    "        of `width` or `std` must be specified.\n",
    "    std : float, optional\n",
    "        An alternative method of specifying the range of the uniform\n",
    "        distribution. Chooses the width of the uniform such that random\n",
    "        variates will have a desired standard deviation. **Exactly one** of\n",
    "        `width` or `std` must be specified.\n",
    "    \"\"\"\n",
    "    def __init__(self, mean=0., width=None, std=None):\n",
    "        if (width is not None) == (std is not None):\n",
    "            raise ValueError(\"must specify width or std, \"\n",
    "                             \"but not both\")\n",
    "        if std is not None:\n",
    "            # Variance of a uniform is 1/12 * width^2\n",
    "            self._width = numpy.sqrt(12) * std\n",
    "        else:\n",
    "            self._width = width\n",
    "        self._mean = mean\n",
    "\n",
    "    def generate(self, rng, shape):\n",
    "        w = self._width / 2\n",
    "        m = rng.uniform(self._mean - w, self._mean + w, size=shape)\n",
    "        return m.astype(np.float32)"
   ]
  },
  {
   "cell_type": "code",
   "execution_count": 12,
   "metadata": {
    "collapsed": true
   },
   "outputs": [],
   "source": [
    "def default(var, val):\n",
    "    if var is None:\n",
    "        return val\n",
    "    else:\n",
    "        return var"
   ]
  },
  {
   "cell_type": "code",
   "execution_count": 13,
   "metadata": {
    "collapsed": true
   },
   "outputs": [],
   "source": [
    "class Layer(object):\n",
    "    def __init__(self, rng=None):\n",
    "        if rng is None:\n",
    "            rng = numpy.random\n",
    "        self.rng = rng\n",
    "        self._parameters = []\n",
    "    \n",
    "    @property\n",
    "    def parameters(self):\n",
    "        return self._parameters\n",
    "    \n",
    "    def add_param(self, name, shape, initializer, dtype='float32'):\n",
    "        param = theano.shared(numpy.zeros(\n",
    "            shape, dtype=dtype), name=name)\n",
    "        param.tag.initializer = initializer\n",
    "        self._parameters.append(param)\n",
    "        setattr(self, name, param)\n",
    "        \n",
    "    def initialize(self):\n",
    "        for p in self.parameters:\n",
    "            p.set_value(p.tag.initializer.generate(self.rng, p.get_value().shape))\n",
    "\n",
    "\n",
    "class RecurrentLayer(Layer):\n",
    "    def __init__(self, **kwargs):\n",
    "        super(RecurrentLayer, self).__init__(**kwargs)\n",
    "        self.initial_states = []\n",
    "    \n",
    "    def apply(self, X, **kwargs):\n",
    "        batch_size = X.shape[1]\n",
    "        outputs_info = []\n",
    "        for h in self.initial_states:\n",
    "            h0 = TT.repeat(h, batch_size, axis=0)\n",
    "            outputs_info.append(dict(initial=h0))\n",
    "        \n",
    "        #\n",
    "        # Scan in theano takes a function which performs a single step of the\n",
    "        # recurrent computation. Subclasses just need to provide the\n",
    "        # self.transition function.\n",
    "        #\n",
    "        scan_result, scan_updates = theano.scan(\n",
    "            self.transition,\n",
    "            sequences=X,\n",
    "            outputs_info=outputs_info,\n",
    "            **kwargs\n",
    "            )\n",
    "        # Note: this in general will not be the case and we will need to\n",
    "        # make sure that the updates are given to theano.function\n",
    "        assert not scan_updates\n",
    "        return scan_result\n",
    "\n",
    "\n",
    "class MergeInputHiddens(Layer):\n",
    "    \"\"\"\n",
    "    Merge two sequences - inputs and hidden states and produce an output.\n",
    "    \n",
    "    \"\"\"\n",
    "    def __init__(self, in_dim, hidden_dim, out_dim, weight_init=None, bias_init=None, **kwargs):\n",
    "        super(MergeInputHiddens, self).__init__(**kwargs)\n",
    "        weight_init = default(weight_init, IsotropicGaussian(1.0/sqrt(in_dim+hidden_dim)))\n",
    "        bias_init = default(weight_init, Constant(0.))\n",
    "        \n",
    "        # Input to output\n",
    "        self.add_param('Wxo', (in_dim, out_dim), weight_init)\n",
    "        \n",
    "        # Hidden to output\n",
    "        self.add_param('Who', (hidden_dim, out_dim), weight_init)\n",
    "        \n",
    "        # Output bias\n",
    "        self.add_param('Bo', (out_dim,), bias_init)\n",
    "        \n",
    "    def apply(self, X, H):\n",
    "        # Get the shape\n",
    "        nsteps, bs, nin = X.shape\n",
    "        nhid = H.shape[2]\n",
    "        \n",
    "        # Note - we flatten the steps and batch size\n",
    "        # as the computation of outputs can be performed in \n",
    "        # parallel for all time steps.\n",
    "        \n",
    "        O = (X.reshape((nsteps*bs, nin)).dot(self.Wxo) + \n",
    "             H.reshape((nsteps*bs, nhid)).dot(self.Who) +\n",
    "             self.Bo)\n",
    "        return O.reshape((nsteps, bs, O.shape[1]))\n",
    "    \n",
    "class Chain(Layer):\n",
    "    def __init__(self, **kwargs):\n",
    "        super(Chain, self).__init__(**kwargs)\n",
    "        self.children = []\n",
    "        \n",
    "    @property\n",
    "    def parameters(self):\n",
    "        ret = list(self._parameters)\n",
    "        for c in self.children:\n",
    "            ret.extend(c.parameters)\n",
    "        return ret"
   ]
  },
  {
   "cell_type": "code",
   "execution_count": 14,
   "metadata": {
    "collapsed": true
   },
   "outputs": [],
   "source": [
    "class LSTM_RNN(RecurrentLayer):\n",
    "    \"\"\"\n",
    "    Implementation follows Alex Graves, Abdel-rahman Mohamed and Geoffrey Hinton\n",
    "    \"SPEECH RECOGNITION WITH DEEP RECURRENT NEURAL NETWORKS\"\n",
    "    http://www.cs.toronto.edu/~fritz/absps/RNN13.pdf\n",
    "    \"\"\"\n",
    "    def __init__(self, in_dim, hidden_dim,\n",
    "                 hidden_activation=TT.tanh,\n",
    "                 rec_weight_init=None,\n",
    "                 weight_init=None, bias_init=None, \n",
    "                 forget_bias_init=None, \n",
    "                 **kwargs):\n",
    "        super(LSTM_RNN, self).__init__(**kwargs)\n",
    "        \n",
    "        rec_weight_init = default(rec_weight_init, IsotropicGaussian(std=0.01))\n",
    "        weight_init = default(weight_init, IsotropicGaussian(std=0.01))\n",
    "        bias_init = default(weight_init, Constant(0.))\n",
    "        forget_bias_init = default(weight_init, Constant(1.))\n",
    "        self.hidden_activation = hidden_activation\n",
    "        \n",
    "        #\n",
    "        # Gates\n",
    "        #\n",
    "        \n",
    "        for gate in 'ifo':\n",
    "            self.add_param('Wx' + gate, (in_dim, hidden_dim), weight_init)\n",
    "            self.add_param('Wh' + gate, (hidden_dim, hidden_dim), weight_init)\n",
    "            # Note: a cell is only connected to its own gates\n",
    "            # Wc... are diagonal - so we allocate only a vector\n",
    "            # for them\n",
    "            self.add_param('Wc' + gate, (hidden_dim,), weight_init)\n",
    "            self.add_param('B' + gate, (hidden_dim,), bias_init)\n",
    "        \n",
    "        #\n",
    "        # Note - forget gate bias has a different initializer, because\n",
    "        # we often want to initialize it to 1\n",
    "        #\n",
    "        self.Bf.tag.initializer = forget_bias_init\n",
    "        \n",
    "        # Cell\n",
    "        self.add_param('Wxc', (in_dim, hidden_dim), weight_init)\n",
    "        self.add_param('Whc', (hidden_dim, hidden_dim), weight_init)\n",
    "        self.add_param('Bc', (hidden_dim,), bias_init)\n",
    "        \n",
    "        # Initial states\n",
    "        self.add_param('h0', (1, hidden_dim), bias_init)\n",
    "        self.initial_states.append(self.h0)\n",
    "        \n",
    "        self.add_param('c0', (1, hidden_dim), bias_init)\n",
    "        self.initial_states.append(self.c0)\n",
    "        \n",
    "        \n",
    "    def transition(self, x, h, c):\n",
    "        \"\"\"\n",
    "        One step of LSTM transition.\n",
    "        \n",
    "        x is the previous input\n",
    "        h is the previous hidden state\n",
    "        c is the previous memory cell content\n",
    "        \"\"\"\n",
    "        \n",
    "        #\n",
    "        # Please note:\n",
    "        # The implementation below is not speed-optimal\n",
    "        # usually, it pays off to group similar matrix multiplications\n",
    "        # by grouping gates.\n",
    "        #\n",
    "        # Also, input-related computations should be moved out of scan since\n",
    "        # they can be done for all steps in parallel.\n",
    "        #\n",
    "        \n",
    "        s = lambda x: 1.2*TT.nnet.sigmoid(x) - 0.1\n",
    "\n",
    "        # Note: for cells we do element wise multiplication which \n",
    "        # is equvalent to a matrix multiplication with a diagonal matrix!\n",
    "        i = s(x.dot(self.Wxi) + h.dot(self.Whi) + c*self.Wci + self.Bi)\n",
    "        f = s(x.dot(self.Wxf) + h.dot(self.Whf) + c*self.Wcf + self.Bf)\n",
    "        \n",
    "        c_new = f*c + i*self.hidden_activation(x.dot(self.Wxc) + h.dot(self.Whc) + self.Bc)\n",
    "        o = s(x.dot(self.Wxo) + h.dot(self.Who) + c_new*self.Wco + self.Bo)\n",
    "        h_new = o * self.hidden_activation(c_new)\n",
    "        \n",
    "        return h_new, c_new"
   ]
  },
  {
   "cell_type": "code",
   "execution_count": 15,
   "metadata": {
    "collapsed": true
   },
   "outputs": [],
   "source": [
    "class Trainer(object):\n",
    "    \"\"\"\n",
    "    This class computes the updates to parameters using the RMSProp learning rule and adding weight decay.\n",
    "    \n",
    "    \"\"\"\n",
    "    def __init__(self, net_loss, parameters, inputs):\n",
    "        self.RMSProp_dec_rate = theano.shared(np.array(0.9, dtype='float32'))\n",
    "        self.RMSProp_epsilon = theano.shared(np.array(1e-5, dtype='float32'))\n",
    "        self.lrate = theano.shared(np.array(1e-2, dtype='float32'))\n",
    "        self.max_grad_norm = theano.shared(np.array(1., dtype='float32'))\n",
    "        self.wdec = theano.shared(np.array(0., dtype='float32'))\n",
    "\n",
    "        theano.config.compute_test_value='off' # Turn off for gradient computation\n",
    "        \n",
    "        wdec_loss = 0\n",
    "        for p in parameters:\n",
    "            if p.name[0]=='W':\n",
    "                wdec_loss = wdec_loss + (p**2).sum()*self.wdec\n",
    "        \n",
    "        grads = theano.grad(net_loss + wdec_loss, parameters)\n",
    "        updates = []\n",
    "\n",
    "        grad_norm = 0.\n",
    "        \n",
    "        #rs = TT.shared_randomstreams.RandomStreams(seed=2568)\n",
    "        \n",
    "        for g in grads:\n",
    "            grad_norm = grad_norm + (g**2).sum()\n",
    "        \n",
    "\n",
    "        for g,p in zip(grads, parameters):\n",
    "            step = g #+ rs.normal(size=g.shape, avg=0.0, std=0.01)\n",
    "            step = g / TT.maximum(1.0, grad_norm/self.max_grad_norm)\n",
    "            if 1:\n",
    "                g2 = theano.shared(p.get_value() * 0., name=p.name + '_g2')\n",
    "                g2_new = (self.RMSProp_dec_rate * g2 + (1.0 - self.RMSProp_dec_rate) * g**2) \n",
    "                updates.append((g2, g2_new))\n",
    "                step = step / TT.sqrt(g2_new + self.RMSProp_epsilon)\n",
    "\n",
    "            step = self.lrate * step\n",
    "            updates.append((p, p - step))\n",
    "\n",
    "        self.train_function = theano.function(inputs, \n",
    "                                              [net_loss, net_loss + wdec_loss, grad_norm], \n",
    "                                              updates=updates)"
   ]
  },
  {
   "cell_type": "code",
   "execution_count": 16,
   "metadata": {
    "collapsed": false
   },
   "outputs": [],
   "source": [
    "class AdditionNet(Chain):\n",
    "    def __init__(self, hidden_dim, num_layers=1,\n",
    "                 use_lstm=True,\n",
    "                 **kwargs):\n",
    "        super(AdditionNet, self).__init__(**kwargs)\n",
    "        self.use_lstm = use_lstm\n",
    "        self.recs = []\n",
    "        \n",
    "        #\n",
    "        # Here we introduce a multilayer LSTM network. We simply feed the hidden states of the\n",
    "        # lower layers as the inputs of the higher ones. Optionally, the inputs can also be connected\n",
    "        # to the upper layers (not implemented in the code).\n",
    "        #\n",
    "        \n",
    "        for hid in xrange(num_layers):\n",
    "            if hid == 0:\n",
    "                in_dim = 2\n",
    "            else:\n",
    "                in_dim = hidden_dim\n",
    "            if use_lstm:\n",
    "                rec = LSTM_RNN(in_dim=in_dim, hidden_dim=hidden_dim,\n",
    "                               rec_weight_init=IsotropicGaussian(std=np.sqrt(6.0/(in_dim+hidden_dim))),\n",
    "                               weight_init=IsotropicGaussian(std=np.sqrt(6.0/(in_dim+hidden_dim))))\n",
    "            else:\n",
    "                rec = SimpleRNN(in_dim=in_dim, hidden_dim=hidden_dim)\n",
    "            self.recs.append(rec)\n",
    "            self.children.append(rec)\n",
    "        \n",
    "        self.merge = MergeInputHiddens(in_dim=2, hidden_dim=hidden_dim, out_dim=1)\n",
    "        self.children.append(self.merge)\n",
    "        \n",
    "        self.X = TT.tensor3('X')\n",
    "        self.Y = TT.matrix('Y')\n",
    "        \n",
    "        self.inputs = [self.X, self.Y]\n",
    "    \n",
    "    def apply(self, X):\n",
    "        H = X\n",
    "        for rec in self.recs:\n",
    "            H = rec.apply(H)\n",
    "            if self.use_lstm: # we don't use cell contents\n",
    "                H = H[0]\n",
    "        O = self.merge.apply(X[-1:], H[-1:])\n",
    "        return O\n",
    "\n",
    "    def get_loss(self):\n",
    "        net_output = self.apply(self.X)\n",
    "        return ((net_output - self.Y)**2).mean()\n",
    "    \n",
    "    def get_prediction(self):\n",
    "        return self.apply(self.X)"
   ]
  },
  {
   "cell_type": "code",
   "execution_count": 130,
   "metadata": {
    "collapsed": false
   },
   "outputs": [
    {
     "name": "stdout",
     "output_type": "stream",
     "text": [
      "X: [[ 1.          0.97002059]\n",
      " [ 0.          0.59496832]\n",
      " [ 1.          0.15066418]\n",
      " [ 0.          0.30725378]\n",
      " [ 0.          0.63706815]\n",
      " [ 0.          0.28325337]\n",
      " [ 0.          0.86375666]\n",
      " [ 0.          0.8511892 ]\n",
      " [ 0.          0.01067225]\n",
      " [ 0.          0.52693772]] \n",
      "Y: [ 0.56034237]\n"
     ]
    }
   ],
   "source": [
    "def gen_addition_example(T, batchsize):\n",
    "    rng = numpy.random\n",
    "    \n",
    "    l = rng.randint(T, int(T * 1.1+0.9))\n",
    "    p0 = rng.randint(0, int(l*.1), size=(batchsize,))\n",
    "    p1 = rng.randint(0, int(l*.4), size=(batchsize,)) + int(l*.1)\n",
    "    \n",
    "    X = rng.uniform(size=(l, batchsize, 2)).astype('float32')\n",
    "    X[:,:,0] = 0.\n",
    "    X[p0, numpy.arange(batchsize), numpy.zeros((batchsize,), dtype='int32')] = 1.\n",
    "    X[p1, numpy.arange(batchsize), numpy.zeros((batchsize,), dtype='int32')] = 1.\n",
    "\n",
    "    Y = (X[p0, numpy.arange(batchsize), \n",
    "           numpy.ones((batchsize,), dtype='int32')] + X[p1, numpy.arange(batchsize),\n",
    "           numpy.ones((batchsize,), dtype='int32')])/2.\n",
    "    return X, Y.reshape((-1,1)).astype('float32')\n",
    "\n",
    "Xa,Ya = gen_addition_example(10, 3)\n",
    "print 'X:', Xa[:,0,:], '\\nY:', Ya[0,:]"
   ]
  },
  {
   "cell_type": "code",
   "execution_count": 131,
   "metadata": {
    "collapsed": false
   },
   "outputs": [
    {
     "name": "stdout",
     "output_type": "stream",
     "text": [
      "0.0386647135019\n"
     ]
    }
   ],
   "source": [
    "theano.config.compute_test_value='off'\n",
    "theano.config.print_test_value=True\n",
    "debug = False\n",
    "\n",
    "addition_net = AdditionNet(hidden_dim=128, use_lstm=True)\n",
    "addition_net.initialize()\n",
    "\n",
    "addition_net_prediction = addition_net.get_prediction()\n",
    "addition_prediction_function = theano.function([addition_net.X], addition_net_prediction)\n",
    "\n",
    "addition_net_loss = addition_net.get_loss()\n",
    "addition_test_function = theano.function(addition_net.inputs, addition_net_loss)\n",
    "\n",
    "Xa, Ya = gen_addition_example(10,20)\n",
    "print addition_test_function(Xa, Ya)"
   ]
  },
  {
   "cell_type": "code",
   "execution_count": 132,
   "metadata": {
    "collapsed": false
   },
   "outputs": [],
   "source": [
    "addition_trainer = Trainer(addition_net_loss, addition_net.parameters, addition_net.inputs)"
   ]
  },
  {
   "cell_type": "code",
   "execution_count": 133,
   "metadata": {
    "collapsed": false,
    "scrolled": true
   },
   "outputs": [
    {
     "name": "stdout",
     "output_type": "stream",
     "text": [
      "0 [array(0.07353320717811584, dtype=float32), array(0.3797719478607178, dtype=float32), array(2.3890631198883057, dtype=float32)]\n",
      "500 [array(0.033501945436000824, dtype=float32), array(0.2024686485528946, dtype=float32), array(0.0057189809158444405, dtype=float32)]\n",
      "1000 [array(0.013985324651002884, dtype=float32), array(0.10655130445957184, dtype=float32), array(0.056647803634405136, dtype=float32)]\n",
      "1500 [array(0.0026367944665253162, dtype=float32), array(0.05471747741103172, dtype=float32), array(0.023459453135728836, dtype=float32)]\n",
      "2000 [array(0.0015700699295848608, dtype=float32), array(0.03099091537296772, dtype=float32), array(0.01107772532850504, dtype=float32)]\n",
      "2500 [array(0.0016926538664847612, dtype=float32), array(0.01882104016840458, dtype=float32), array(0.00351455295458436, dtype=float32)]\n",
      "3000 [array(0.0015620930353179574, dtype=float32), array(0.011968663893640041, dtype=float32), array(0.011952470056712627, dtype=float32)]\n",
      "3500 [array(0.003210342489182949, dtype=float32), array(0.009911840781569481, dtype=float32), array(0.038489826023578644, dtype=float32)]\n",
      "4000 [array(0.0018918487476184964, dtype=float32), array(0.006458197254687548, dtype=float32), array(0.0275160800665617, dtype=float32)]\n",
      "4500 [array(0.002453957451507449, dtype=float32), array(0.005752450320869684, dtype=float32), array(0.033844880759716034, dtype=float32)]\n",
      "5000 [array(0.003142965491861105, dtype=float32), array(0.005631357431411743, dtype=float32), array(0.047120098024606705, dtype=float32)]\n",
      "5500 [array(0.00026621005963534117, dtype=float32), array(0.002192542888224125, dtype=float32), array(0.0011370133142918348, dtype=float32)]\n",
      "5610 Increasing seq length to:  25\n",
      "6000 [array(0.001300431089475751, dtype=float32), array(0.002856919774785638, dtype=float32), array(0.01045007724314928, dtype=float32)]\n",
      "6500 [array(0.0010396890575066209, dtype=float32), array(0.002312220400199294, dtype=float32), array(0.008697147481143475, dtype=float32)]\n",
      "6905 Increasing seq length to:  30\n",
      "7000 [array(0.0003545488289091736, dtype=float32), array(0.0014281057519838214, dtype=float32), array(0.00150801963172853, dtype=float32)]\n",
      "7500 [array(0.0001236052776221186, dtype=float32), array(0.0010715979151427746, dtype=float32), array(4.137799805903342e-06, dtype=float32)]\n",
      "7516 Increasing seq length to:  35\n",
      "7718 Increasing seq length to:  40\n",
      "7764 Increasing seq length to:  45\n",
      "7982 Increasing seq length to:  50\n",
      "8000 [array(0.0004818087036255747, dtype=float32), array(0.001353388768620789, dtype=float32), array(0.006221272982656956, dtype=float32)]\n",
      "8122 Increasing seq length to:  55\n",
      "8142 Increasing seq length to:  60\n",
      "8290 Increasing seq length to:  65\n",
      "8423 Increasing seq length to:  70\n",
      "8431 Increasing seq length to:  75\n",
      "8500 [array(0.00041649711783975363, dtype=float32), array(0.0012630220735445619, dtype=float32), array(0.003307959996163845, dtype=float32)]\n",
      "8572 Increasing seq length to:  80\n",
      "8660 Increasing seq length to:  85\n",
      "8721 Increasing seq length to:  90\n",
      "8770 Increasing seq length to:  95\n",
      "8773 Increasing seq length to:  100\n",
      "8792 Increasing seq length to:  105\n",
      "9000 [array(0.0012800429249182343, dtype=float32), array(0.002120665740221739, dtype=float32), array(0.01734982244670391, dtype=float32)]\n",
      "9169 Increasing seq length to:  110\n",
      "9264 Increasing seq length to:  115\n",
      "9301 Increasing seq length to:  120\n",
      "9424 Increasing seq length to:  125\n",
      "9470 Increasing seq length to:  130\n",
      "9500 [array(0.0016231879126280546, dtype=float32), array(0.0024473313242197037, dtype=float32), array(0.03439183533191681, dtype=float32)]\n",
      "9602 Increasing seq length to:  135\n",
      "9603 Increasing seq length to:  140\n",
      "9696 Increasing seq length to:  145\n",
      "9733 Increasing seq length to:  150\n",
      "10000 [array(0.0018934326944872737, dtype=float32), array(0.0026801670901477337, dtype=float32), array(0.04066191986203194, dtype=float32)]\n",
      "10016 Increasing seq length to:  155\n",
      "10058 Increasing seq length to:  160\n",
      "10068 Increasing seq length to:  165\n",
      "10126 Increasing seq length to:  170\n",
      "10318 Increasing seq length to:  175\n",
      "10414 Increasing seq length to:  180\n",
      "10445 Increasing seq length to:  185\n",
      "10446 Increasing seq length to:  190\n",
      "10500 [array(0.00011800826177932322, dtype=float32), array(0.0008802320226095617, dtype=float32), array(0.0006201639771461487, dtype=float32)]\n",
      "10546 Increasing seq length to:  195\n",
      "10587 Increasing seq length to:  200\n"
     ]
    },
    {
     "data": {
      "text/plain": [
       "<matplotlib.text.Text at 0x7fa4d10d12d0>"
      ]
     },
     "execution_count": 133,
     "metadata": {},
     "output_type": "execute_result"
    },
    {
     "data": {
      "image/png": "[encoded data removed]",
      "text/plain": [
       "<matplotlib.figure.Figure at 0x7fa49bc00fd0>"
      ]
     },
     "metadata": {},
     "output_type": "display_data"
    }
   ],
   "source": [
    "addition_net.initialize()\n",
    "\n",
    "if addition_net.use_lstm:\n",
    "    addition_trainer.lrate.set_value(1e-2)\n",
    "else:\n",
    "    addition_trainer.lrate.set_value(1e-3)\n",
    "addition_trainer.max_grad_norm.set_value(4.)\n",
    "# weight decay seems to be important for generalization\n",
    "addition_trainer.wdec.set_value(1e-4)\n",
    "\n",
    "losses = []\n",
    "\n",
    "seq_len = 20\n",
    "# this enables \"curriculum learning\" - we gradually train on \n",
    "# longer and longer sequences\n",
    "max_seq_len = 200\n",
    "\n",
    "for i in xrange(100000):\n",
    "    this_len = np.random.randint(10, seq_len+1)\n",
    "    Xa, Ya = gen_addition_example(this_len, 100)\n",
    "    ret = addition_trainer.train_function(Xa, Ya)\n",
    "    losses.append((i,) + tuple(ret))\n",
    "    if this_len>seq_len*0.9 and ret[0] < 0.0002:\n",
    "        seq_len += 5\n",
    "        if seq_len>max_seq_len:\n",
    "            break\n",
    "        print i, \"Increasing seq length to: \", seq_len\n",
    "    if i%500 == 0:\n",
    "        print i, ret\n",
    "    \n",
    "losses_a = np.array(losses)\n",
    "\n",
    "semilogy(losses_a[:,0], losses_a[:,1], label='rms')\n",
    "semilogy(losses_a[:,0], losses_a[:,1], alpha=0.5, label='rms + wdec')\n",
    "plot(losses_a[:,0], losses_a[:,2], alpha=0.5, label='grad norm')\n",
    "\n",
    "legend(loc='lower left')\n",
    "title('Training loss')\n",
    "xlabel('iteration')"
   ]
  },
  {
   "cell_type": "code",
   "execution_count": 135,
   "metadata": {
    "collapsed": false
   },
   "outputs": [
    {
     "data": {
      "text/plain": [
       "array(0.009946872480213642, dtype=float32)"
      ]
     },
     "execution_count": 135,
     "metadata": {},
     "output_type": "execute_result"
    }
   ],
   "source": [
    "Xa, Ya = gen_addition_example(1000,1000)\n",
    "addition_test_function(Xa, Ya)"
   ]
  },
  {
   "cell_type": "code",
   "execution_count": null,
   "metadata": {
    "collapsed": false,
    "scrolled": true
   },
   "outputs": [],
   "source": [
    "err_list = []\n",
    "for t in xrange(10,3000,5):\n",
    "    if t%50 == 0:\n",
    "        print t,\n",
    "    Xa, Ya = gen_addition_example(t,2000)\n",
    "    err_list.append(addition_test_function(Xa, Ya))"
   ]
  },
  {
   "cell_type": "code",
   "execution_count": 64,
   "metadata": {
    "collapsed": false,
    "scrolled": true
   },
   "outputs": [
    {
     "data": {
      "text/plain": [
       "[<matplotlib.lines.Line2D at 0x7f217c6db290>]"
      ]
     },
     "execution_count": 64,
     "metadata": {},
     "output_type": "execute_result"
    },
    {
     "data": {
      "image/png": "[encoded data removed]",
      "text/plain": [
       "<matplotlib.figure.Figure at 0x7f217c707810>"
      ]
     },
     "metadata": {},
     "output_type": "display_data"
    }
   ],
   "source": [
    "semilogy(xrange(10, 3000, 5), err_list)"
   ]
  }
 ],
 "metadata": {
  "kernelspec": {
   "display_name": "Python 2",
   "language": "python",
   "name": "python2"
  },
  "language_info": {
   "codemirror_mode": {
    "name": "ipython",
    "version": 2
   },
   "file_extension": ".py",
   "mimetype": "text/x-python",
   "name": "python",
   "nbconvert_exporter": "python",
   "pygments_lexer": "ipython2",
   "version": "2.7.10"
  }
 },
 "nbformat": 4,
 "nbformat_minor": 0
}
