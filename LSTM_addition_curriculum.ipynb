{
 "cells": [
  {
   "cell_type": "markdown",
   "metadata": {},
   "source": [
    "#Neural Networks alternative project - LSTM"
   ]
  },
  {
   "cell_type": "code",
   "execution_count": 1,
   "metadata": {
    "collapsed": false
   },
   "outputs": [
    {
     "name": "stdout",
     "output_type": "stream",
     "text": [
      "Populating the interactive namespace from numpy and matplotlib\n",
      "Couldn't import dot_parser, loading of dot files will not be possible.\n"
     ]
    },
    {
     "name": "stderr",
     "output_type": "stream",
     "text": [
      "Vendor:  Continuum Analytics, Inc.\n",
      "Package: mkl\n",
      "Message: trial mode expires in 28 days\n",
      "Vendor:  Continuum Analytics, Inc.\n",
      "Package: mkl\n",
      "Message: trial mode expires in 28 days\n"
     ]
    }
   ],
   "source": [
    "%pylab inline\n",
    "\n",
    "import theano\n",
    "import theano.tensor as TT\n",
    "\n",
    "debug = True # global var to control debugging\n",
    "theano.config.compute_test_value = 'warn' "
   ]
  },
  {
   "cell_type": "code",
   "execution_count": 2,
   "metadata": {
    "collapsed": true
   },
   "outputs": [],
   "source": [
    "#\n",
    "# These are taken from https://github.com/mila-udem/blocks\n",
    "# \n",
    "\n",
    "class Constant():\n",
    "    \"\"\"Initialize parameters to a constant.\n",
    "    The constant may be a scalar or a :class:`~numpy.ndarray` of any shape\n",
    "    that is broadcastable with the requested parameter arrays.\n",
    "    Parameters\n",
    "    ----------\n",
    "    constant : :class:`~numpy.ndarray`\n",
    "        The initialization value to use. Must be a scalar or an ndarray (or\n",
    "        compatible object, such as a nested list) that has a shape that is\n",
    "        broadcastable with any shape requested by `initialize`.\n",
    "    \"\"\"\n",
    "    def __init__(self, constant):\n",
    "        self._constant = numpy.asarray(constant)\n",
    "\n",
    "    def generate(self, rng, shape):\n",
    "        dest = numpy.empty(shape, dtype=np.float32)\n",
    "        dest[...] = self._constant\n",
    "        return dest\n",
    "\n",
    "\n",
    "class IsotropicGaussian():\n",
    "    \"\"\"Initialize parameters from an isotropic Gaussian distribution.\n",
    "    Parameters\n",
    "    ----------\n",
    "    std : float, optional\n",
    "        The standard deviation of the Gaussian distribution. Defaults to 1.\n",
    "    mean : float, optional\n",
    "        The mean of the Gaussian distribution. Defaults to 0\n",
    "    Notes\n",
    "    -----\n",
    "    Be careful: the standard deviation goes first and the mean goes\n",
    "    second!\n",
    "    \"\"\"\n",
    "    def __init__(self, std=1, mean=0):\n",
    "        self._mean = mean\n",
    "        self._std = std\n",
    "\n",
    "    def generate(self, rng, shape):\n",
    "        m = rng.normal(self._mean, self._std, size=shape)\n",
    "        return m.astype(np.float32)\n",
    "\n",
    "\n",
    "class Uniform():\n",
    "    \"\"\"Initialize parameters from a uniform distribution.\n",
    "    Parameters\n",
    "    ----------\n",
    "    mean : float, optional\n",
    "        The mean of the uniform distribution (i.e. the center of mass for\n",
    "        the density function); Defaults to 0.\n",
    "    width : float, optional\n",
    "        One way of specifying the range of the uniform distribution. The\n",
    "        support will be [mean - width/2, mean + width/2]. **Exactly one**\n",
    "        of `width` or `std` must be specified.\n",
    "    std : float, optional\n",
    "        An alternative method of specifying the range of the uniform\n",
    "        distribution. Chooses the width of the uniform such that random\n",
    "        variates will have a desired standard deviation. **Exactly one** of\n",
    "        `width` or `std` must be specified.\n",
    "    \"\"\"\n",
    "    def __init__(self, mean=0., width=None, std=None):\n",
    "        if (width is not None) == (std is not None):\n",
    "            raise ValueError(\"must specify width or std, \"\n",
    "                             \"but not both\")\n",
    "        if std is not None:\n",
    "            # Variance of a uniform is 1/12 * width^2\n",
    "            self._width = numpy.sqrt(12) * std\n",
    "        else:\n",
    "            self._width = width\n",
    "        self._mean = mean\n",
    "\n",
    "    def generate(self, rng, shape):\n",
    "        w = self._width / 2\n",
    "        m = rng.uniform(self._mean - w, self._mean + w, size=shape)\n",
    "        return m.astype(np.float32)"
   ]
  },
  {
   "cell_type": "code",
   "execution_count": 3,
   "metadata": {
    "collapsed": true
   },
   "outputs": [],
   "source": [
    "def default(var, val):\n",
    "    if var is None:\n",
    "        return val\n",
    "    else:\n",
    "        return var"
   ]
  },
  {
   "cell_type": "code",
   "execution_count": 4,
   "metadata": {
    "collapsed": true
   },
   "outputs": [],
   "source": [
    "class Layer(object):\n",
    "    def __init__(self, rng=None):\n",
    "        if rng is None:\n",
    "            rng = numpy.random\n",
    "        self.rng = rng\n",
    "        self._parameters = []\n",
    "    \n",
    "    @property\n",
    "    def parameters(self):\n",
    "        return self._parameters\n",
    "    \n",
    "    def add_param(self, name, shape, initializer, dtype='float32'):\n",
    "        param = theano.shared(numpy.zeros(\n",
    "            shape, dtype=dtype), name=name)\n",
    "        param.tag.initializer = initializer\n",
    "        self._parameters.append(param)\n",
    "        setattr(self, name, param)\n",
    "        \n",
    "    def initialize(self):\n",
    "        for p in self.parameters:\n",
    "            p.set_value(p.tag.initializer.generate(self.rng, p.get_value().shape))\n",
    "\n",
    "\n",
    "class RecurrentLayer(Layer):\n",
    "    def __init__(self, **kwargs):\n",
    "        super(RecurrentLayer, self).__init__(**kwargs)\n",
    "        self.initial_states = []\n",
    "    \n",
    "    def apply(self, X, **kwargs):\n",
    "        batch_size = X.shape[1]\n",
    "        outputs_info = []\n",
    "        for h in self.initial_states:\n",
    "            h0 = TT.repeat(h, batch_size, axis=0)\n",
    "            outputs_info.append(dict(initial=h0))\n",
    "        \n",
    "        #\n",
    "        # Scan in theano takes a function which performs a single step of the\n",
    "        # recurrent computation. Subclasses just need to provide the\n",
    "        # self.transition function.\n",
    "        #\n",
    "        scan_result, scan_updates = theano.scan(\n",
    "            self.transition,\n",
    "            sequences=X,\n",
    "            outputs_info=outputs_info,\n",
    "            **kwargs\n",
    "            )\n",
    "        # Note: this in general will not be the case and we will need to\n",
    "        # make sure that the updates are given to theano.function\n",
    "        assert not scan_updates\n",
    "        return scan_result\n",
    "\n",
    "\n",
    "class MergeInputHiddens(Layer):\n",
    "    \"\"\"\n",
    "    Merge two sequences - inputs and hidden states and produce an output.\n",
    "    \n",
    "    \"\"\"\n",
    "    def __init__(self, in_dim, hidden_dim, out_dim, weight_init=None, bias_init=None, **kwargs):\n",
    "        super(MergeInputHiddens, self).__init__(**kwargs)\n",
    "        weight_init = default(weight_init, IsotropicGaussian(1.0/sqrt(in_dim+hidden_dim)))\n",
    "        bias_init = default(weight_init, Constant(0.))\n",
    "        \n",
    "        # Input to output\n",
    "        self.add_param('Wxo', (in_dim, out_dim), weight_init)\n",
    "        \n",
    "        # Hidden to output\n",
    "        self.add_param('Who', (hidden_dim, out_dim), weight_init)\n",
    "        \n",
    "        # Output bias\n",
    "        self.add_param('Bo', (out_dim,), bias_init)\n",
    "        \n",
    "    def apply(self, X, H):\n",
    "        # Get the shape\n",
    "        nsteps, bs, nin = X.shape\n",
    "        nhid = H.shape[2]\n",
    "        \n",
    "        # Note - we flatten the steps and batch size\n",
    "        # as the computation of outputs can be performed in \n",
    "        # parallel for all time steps.\n",
    "        \n",
    "        O = (X.reshape((nsteps*bs, nin)).dot(self.Wxo) + \n",
    "             H.reshape((nsteps*bs, nhid)).dot(self.Who) +\n",
    "             self.Bo)\n",
    "        return O.reshape((nsteps, bs, O.shape[1]))\n",
    "    \n",
    "class Chain(Layer):\n",
    "    def __init__(self, **kwargs):\n",
    "        super(Chain, self).__init__(**kwargs)\n",
    "        self.children = []\n",
    "        \n",
    "    @property\n",
    "    def parameters(self):\n",
    "        ret = list(self._parameters)\n",
    "        for c in self.children:\n",
    "            ret.extend(c.parameters)\n",
    "        return ret"
   ]
  },
  {
   "cell_type": "code",
   "execution_count": 5,
   "metadata": {
    "collapsed": true
   },
   "outputs": [],
   "source": [
    "class LSTM_RNN(RecurrentLayer):\n",
    "    \"\"\"\n",
    "    Implementation follows Alex Graves, Abdel-rahman Mohamed and Geoffrey Hinton\n",
    "    \"SPEECH RECOGNITION WITH DEEP RECURRENT NEURAL NETWORKS\"\n",
    "    http://www.cs.toronto.edu/~fritz/absps/RNN13.pdf\n",
    "    \"\"\"\n",
    "    def __init__(self, in_dim, hidden_dim,\n",
    "                 hidden_activation=TT.tanh,\n",
    "                 rec_weight_init=None,\n",
    "                 weight_init=None, bias_init=None, \n",
    "                 forget_bias_init=None, \n",
    "                 **kwargs):\n",
    "        super(LSTM_RNN, self).__init__(**kwargs)\n",
    "        \n",
    "        rec_weight_init = default(rec_weight_init, IsotropicGaussian(std=0.01))\n",
    "        weight_init = default(weight_init, IsotropicGaussian(std=0.01))\n",
    "        bias_init = default(weight_init, Constant(0.))\n",
    "        forget_bias_init = default(weight_init, Constant(1.))\n",
    "        self.hidden_activation = hidden_activation\n",
    "        \n",
    "        #\n",
    "        # Gates\n",
    "        #\n",
    "        \n",
    "        for gate in 'ifo':\n",
    "            self.add_param('Wx' + gate, (in_dim, hidden_dim), weight_init)\n",
    "            self.add_param('Wh' + gate, (hidden_dim, hidden_dim), weight_init)\n",
    "            # Note: a cell is only connected to its own gates\n",
    "            # Wc... are diagonal - so we allocate only a vector\n",
    "            # for them\n",
    "            self.add_param('Wc' + gate, (hidden_dim,), weight_init)\n",
    "            self.add_param('B' + gate, (hidden_dim,), bias_init)\n",
    "        \n",
    "        #\n",
    "        # Note - forget gate bias has a different initializer, because\n",
    "        # we often want to initialize it to 1\n",
    "        #\n",
    "        self.Bf.tag.initializer = forget_bias_init\n",
    "        \n",
    "        # Cell\n",
    "        self.add_param('Wxc', (in_dim, hidden_dim), weight_init)\n",
    "        self.add_param('Whc', (hidden_dim, hidden_dim), weight_init)\n",
    "        self.add_param('Bc', (hidden_dim,), bias_init)\n",
    "        \n",
    "        # Initial states\n",
    "        self.add_param('h0', (1, hidden_dim), bias_init)\n",
    "        self.initial_states.append(self.h0)\n",
    "        \n",
    "        self.add_param('c0', (1, hidden_dim), bias_init)\n",
    "        self.initial_states.append(self.c0)\n",
    "        \n",
    "        \n",
    "    def transition(self, x, h, c):\n",
    "        \"\"\"\n",
    "        One step of LSTM transition.\n",
    "        \n",
    "        x is the previous input\n",
    "        h is the previous hidden state\n",
    "        c is the previous memory cell content\n",
    "        \"\"\"\n",
    "        \n",
    "        #\n",
    "        # Please note:\n",
    "        # The implementation below is not speed-optimal\n",
    "        # usually, it pays off to group similar matrix multiplications\n",
    "        # by grouping gates.\n",
    "        #\n",
    "        # Also, input-related computations should be moved out of scan since\n",
    "        # they can be done for all steps in parallel.\n",
    "        #\n",
    "        \n",
    "        s = lambda x: 1.2*TT.nnet.sigmoid(x) - 0.1\n",
    "\n",
    "        # Note: for cells we do element wise multiplication which \n",
    "        # is equvalent to a matrix multiplication with a diagonal matrix!\n",
    "        i = s(x.dot(self.Wxi) + h.dot(self.Whi) + c*self.Wci + self.Bi)\n",
    "        f = s(x.dot(self.Wxf) + h.dot(self.Whf) + c*self.Wcf + self.Bf)\n",
    "        \n",
    "        c_new = f*c + i*self.hidden_activation(x.dot(self.Wxc) + h.dot(self.Whc) + self.Bc)\n",
    "        o = s(x.dot(self.Wxo) + h.dot(self.Who) + c_new*self.Wco + self.Bo)\n",
    "        h_new = o * self.hidden_activation(c_new)\n",
    "        \n",
    "        return h_new, c_new"
   ]
  },
  {
   "cell_type": "code",
   "execution_count": 6,
   "metadata": {
    "collapsed": true
   },
   "outputs": [],
   "source": [
    "class Trainer(object):\n",
    "    \"\"\"\n",
    "    This class computes the updates to parameters using the RMSProp learning rule and adding weight decay.\n",
    "    \n",
    "    \"\"\"\n",
    "    def __init__(self, net_loss, parameters, inputs):\n",
    "        self.RMSProp_dec_rate = theano.shared(np.array(0.9, dtype='float32'))\n",
    "        self.RMSProp_epsilon = theano.shared(np.array(1e-5, dtype='float32'))\n",
    "        self.lrate = theano.shared(np.array(1e-2, dtype='float32'))\n",
    "        self.max_grad_norm = theano.shared(np.array(1., dtype='float32'))\n",
    "        self.wdec = theano.shared(np.array(0., dtype='float32'))\n",
    "\n",
    "        theano.config.compute_test_value='off' # Turn off for gradient computation\n",
    "        \n",
    "        wdec_loss = 0\n",
    "        for p in parameters:\n",
    "            if p.name[0]=='W':\n",
    "                wdec_loss = wdec_loss + (p**2).sum()*self.wdec\n",
    "        \n",
    "        grads = theano.grad(net_loss + wdec_loss, parameters)\n",
    "        updates = []\n",
    "\n",
    "        grad_norm = 0.\n",
    "        \n",
    "        #rs = TT.shared_randomstreams.RandomStreams(seed=2568)\n",
    "        \n",
    "        for g in grads:\n",
    "            grad_norm = grad_norm + (g**2).sum()\n",
    "        \n",
    "\n",
    "        for g,p in zip(grads, parameters):\n",
    "            step = g #+ rs.normal(size=g.shape, avg=0.0, std=0.01)\n",
    "            step = g / TT.maximum(1.0, grad_norm/self.max_grad_norm)\n",
    "            if 1:\n",
    "                g2 = theano.shared(p.get_value() * 0., name=p.name + '_g2')\n",
    "                g2_new = (self.RMSProp_dec_rate * g2 + (1.0 - self.RMSProp_dec_rate) * g**2) \n",
    "                updates.append((g2, g2_new))\n",
    "                step = step / TT.sqrt(g2_new + self.RMSProp_epsilon)\n",
    "\n",
    "            step = self.lrate * step\n",
    "            updates.append((p, p - step))\n",
    "\n",
    "        self.train_function = theano.function(inputs, \n",
    "                                              [net_loss, net_loss + wdec_loss, grad_norm], \n",
    "                                              updates=updates)"
   ]
  },
  {
   "cell_type": "code",
   "execution_count": 7,
   "metadata": {
    "collapsed": false
   },
   "outputs": [],
   "source": [
    "class AdditionNet(Chain):\n",
    "    def __init__(self, hidden_dim, num_layers=1,\n",
    "                 use_lstm=True,\n",
    "                 **kwargs):\n",
    "        super(AdditionNet, self).__init__(**kwargs)\n",
    "        self.use_lstm = use_lstm\n",
    "        self.recs = []\n",
    "        \n",
    "        #\n",
    "        # Here we introduce a multilayer LSTM network. We simply feed the hidden states of the\n",
    "        # lower layers as the inputs of the higher ones. Optionally, the inputs can also be connected\n",
    "        # to the upper layers (not implemented in the code).\n",
    "        #\n",
    "        \n",
    "        for hid in xrange(num_layers):\n",
    "            if hid == 0:\n",
    "                in_dim = 2\n",
    "            else:\n",
    "                in_dim = hidden_dim\n",
    "            if use_lstm:\n",
    "                rec = LSTM_RNN(in_dim=in_dim, hidden_dim=hidden_dim,\n",
    "                               rec_weight_init=IsotropicGaussian(std=np.sqrt(6.0/(in_dim+hidden_dim))),\n",
    "                               weight_init=IsotropicGaussian(std=np.sqrt(6.0/(in_dim+hidden_dim))))\n",
    "            else:\n",
    "                rec = SimpleRNN(in_dim=in_dim, hidden_dim=hidden_dim)\n",
    "            self.recs.append(rec)\n",
    "            self.children.append(rec)\n",
    "        \n",
    "        self.merge = MergeInputHiddens(in_dim=2, hidden_dim=hidden_dim, out_dim=1)\n",
    "        self.children.append(self.merge)\n",
    "        \n",
    "        self.X = TT.tensor3('X')\n",
    "        self.Y = TT.matrix('Y')\n",
    "        \n",
    "        self.inputs = [self.X, self.Y]\n",
    "    \n",
    "    def apply(self, X):\n",
    "        H = X\n",
    "        for rec in self.recs:\n",
    "            H = rec.apply(H)\n",
    "            if self.use_lstm: # we don't use cell contents\n",
    "                H = H[0]\n",
    "        O = self.merge.apply(X[-1:], H[-1:])\n",
    "        return O\n",
    "\n",
    "    def get_loss(self):\n",
    "        net_output = self.apply(self.X)\n",
    "        return ((net_output - self.Y)**2).mean()\n",
    "    \n",
    "    def get_prediction(self):\n",
    "        return self.apply(self.X)"
   ]
  },
  {
   "cell_type": "code",
   "execution_count": 9,
   "metadata": {
    "collapsed": false
   },
   "outputs": [
    {
     "name": "stdout",
     "output_type": "stream",
     "text": [
      "X: [[ 0.          0.24174047]\n",
      " [ 0.          0.77659345]\n",
      " [ 0.          0.36382365]\n",
      " [ 1.          0.11788242]\n",
      " [ 0.          0.1115578 ]\n",
      " [ 0.          0.00125175]\n",
      " [ 0.          0.43233198]\n",
      " [ 0.          0.97369379]\n",
      " [ 1.          0.10007048]\n",
      " [ 0.          0.84029222]] \n",
      "Y: [ 0.21795291]\n"
     ]
    }
   ],
   "source": [
    "def generate_addition_example(T, batchsize, p=0.3):\n",
    "    rng = numpy.random\n",
    "    \n",
    "    x = rng.uniform(size=(batchsize, T)).astype('float32')\n",
    "    #y = rng.binomial(1, p, size=(batchsize, T))\n",
    "\n",
    "    i1 = rng.randint(0,T/2, batchsize)\n",
    "    i2 = rng.randint(T/2, T, batchsize)\n",
    "\n",
    "    y = np.zeros((batchsize, T))\n",
    "    y[np.arange(batchsize), i1] = 1\n",
    "    y[np.arange(batchsize), i2] = 1\n",
    "\n",
    "    X = np.array([y,x], dtype='float32')\n",
    "    Y = (x*y).sum(axis=1, keepdims=True, dtype='float32')\n",
    "    \n",
    "    return X.T, Y\n",
    "\n",
    "\n",
    "Xa,Ya = generate_addition_example(10, 3)\n",
    "print 'X:', Xa[:,0,:], '\\nY:', Ya[0,:]"
   ]
  },
  {
   "cell_type": "code",
   "execution_count": 10,
   "metadata": {
    "collapsed": false
   },
   "outputs": [
    {
     "name": "stdout",
     "output_type": "stream",
     "text": [
      "0.921193003654\n"
     ]
    },
    {
     "name": "stderr",
     "output_type": "stream",
     "text": [
      "/pio/os/anaconda/lib/python2.7/site-packages/theano/gof/cmodule.py:293: RuntimeWarning: numpy.ndarray size changed, may indicate binary incompatibility\n",
      "  rval = __import__(module_name, {}, {}, [module_name])\n"
     ]
    }
   ],
   "source": [
    "theano.config.compute_test_value='off'\n",
    "theano.config.print_test_value=True\n",
    "debug = False\n",
    "\n",
    "addition_net = AdditionNet(hidden_dim=128, use_lstm=True)\n",
    "addition_net.initialize()\n",
    "\n",
    "addition_net_prediction = addition_net.get_prediction()\n",
    "addition_prediction_function = theano.function([addition_net.X], addition_net_prediction)\n",
    "\n",
    "addition_net_loss = addition_net.get_loss()\n",
    "addition_test_function = theano.function(addition_net.inputs, addition_net_loss)\n",
    "\n",
    "Xa, Ya = generate_addition_example(10,20)\n",
    "print addition_test_function(Xa, Ya)"
   ]
  },
  {
   "cell_type": "code",
   "execution_count": 11,
   "metadata": {
    "collapsed": false
   },
   "outputs": [],
   "source": [
    "addition_trainer = Trainer(addition_net_loss, addition_net.parameters, addition_net.inputs)"
   ]
  },
  {
   "cell_type": "code",
   "execution_count": 12,
   "metadata": {
    "collapsed": false,
    "scrolled": true
   },
   "outputs": [
    {
     "name": "stdout",
     "output_type": "stream",
     "text": [
      "0 [array(1.1775110960006714, dtype=float32), array(1.4855704307556152, dtype=float32), array(52.19609069824219, dtype=float32)]\n",
      "500 [array(0.050851110368967056, dtype=float32), array(0.22513705492019653, dtype=float32), array(0.030411435291171074, dtype=float32)]\n",
      "1000 [array(0.008459116332232952, dtype=float32), array(0.10529518127441406, dtype=float32), array(0.16913193464279175, dtype=float32)]\n",
      "1500 [array(0.003559848992154002, dtype=float32), array(0.05752549692988396, dtype=float32), array(0.046086106449365616, dtype=float32)]\n",
      "2000 [array(0.00344546465203166, dtype=float32), array(0.03427373617887497, dtype=float32), array(0.043855827301740646, dtype=float32)]\n",
      "2500 [array(0.012210538610816002, dtype=float32), array(0.03042636439204216, dtype=float32), array(0.20856855809688568, dtype=float32)]\n",
      "3000 [array(0.002685025567188859, dtype=float32), array(0.014016739092767239, dtype=float32), array(0.024554142728447914, dtype=float32)]\n",
      "3500 [array(0.0019772753585129976, dtype=float32), array(0.009458575397729874, dtype=float32), array(0.011064967140555382, dtype=float32)]\n",
      "3702 Increasing seq length to:  25\n",
      "4000 [array(0.0008360174251720309, dtype=float32), array(0.006221157032996416, dtype=float32), array(0.00044276478001847863, dtype=float32)]\n",
      "4500 [array(0.004536765627563, dtype=float32), array(0.008752550929784775, dtype=float32), array(0.07518445700407028, dtype=float32)]\n",
      "5000 [array(0.0009049568325281143, dtype=float32), array(0.00441230833530426, dtype=float32), array(0.00036447105230763555, dtype=float32)]\n",
      "5112 Increasing seq length to:  30\n",
      "5463 Increasing seq length to:  35\n",
      "5500 [array(0.001011726912111044, dtype=float32), array(0.004124732688069344, dtype=float32), array(0.00018034347158391029, dtype=float32)]\n",
      "6000 [array(0.010178805328905582, dtype=float32), array(0.0130032729357481, dtype=float32), array(0.2842089533805847, dtype=float32)]\n",
      "6285 Increasing seq length to:  40\n",
      "6500 [array(0.0008366456022486091, dtype=float32), array(0.0035439946223050356, dtype=float32), array(0.0015174353029578924, dtype=float32)]\n",
      "6502 Increasing seq length to:  45\n",
      "6738 Increasing seq length to:  50\n",
      "7000 [array(0.0006399730336852372, dtype=float32), array(0.0032681585289537907, dtype=float32), array(0.0006411070935428143, dtype=float32)]\n",
      "7500 [array(0.0009899330325424671, dtype=float32), array(0.003509700996801257, dtype=float32), array(0.0011559631675481796, dtype=float32)]\n",
      "7539 Increasing seq length to:  55\n",
      "8000 [array(0.0012799670221284032, dtype=float32), array(0.0037163556553423405, dtype=float32), array(0.009288103319704533, dtype=float32)]\n",
      "8125 Increasing seq length to:  60\n",
      "8370 Increasing seq length to:  65\n",
      "8462 Increasing seq length to:  70\n",
      "8500 [array(0.0020474845077842474, dtype=float32), array(0.004419821780174971, dtype=float32), array(0.03442239388823509, dtype=float32)]\n",
      "8777 Increasing seq length to:  75\n",
      "8812 Increasing seq length to:  80\n",
      "8961 Increasing seq length to:  85\n",
      "9000 [array(0.0010986289707943797, dtype=float32), array(0.0034579262137413025, dtype=float32), array(0.012509778141975403, dtype=float32)]\n",
      "9190 Increasing seq length to:  90\n",
      "9313 Increasing seq length to:  95\n",
      "9500 [array(0.0011429402511566877, dtype=float32), array(0.0034579774364829063, dtype=float32), array(0.0029955573845654726, dtype=float32)]\n",
      "9512 Increasing seq length to:  100\n",
      "9529 Increasing seq length to:  105\n",
      "9576 Increasing seq length to:  110\n",
      "9742 Increasing seq length to:  115\n",
      "9948 Increasing seq length to:  120\n",
      "10000 [array(0.0007258793921209872, dtype=float32), array(0.003033135551959276, dtype=float32), array(0.000513360311742872, dtype=float32)]\n",
      "10273 Increasing seq length to:  125\n",
      "10349 Increasing seq length to:  130\n",
      "10452 Increasing seq length to:  135\n",
      "10500 [array(0.01417284645140171, dtype=float32), array(0.016426511108875275, dtype=float32), array(0.788256824016571, dtype=float32)]\n",
      "11000 [array(0.000628333305940032, dtype=float32), array(0.0028427017387002707, dtype=float32), array(0.0036501986905932426, dtype=float32)]\n",
      "11079 Increasing seq length to:  140\n",
      "11104 Increasing seq length to:  145\n",
      "11401 Increasing seq length to:  150\n",
      "11408 Increasing seq length to:  155\n",
      "11494 Increasing seq length to:  160\n",
      "11500 [array(0.004815739579498768, dtype=float32), array(0.006916281767189503, dtype=float32), array(0.03705756738781929, dtype=float32)]\n",
      "11566 Increasing seq length to:  165\n",
      "11574 Increasing seq length to:  170\n",
      "12000 [array(0.003222474828362465, dtype=float32), array(0.005220132879912853, dtype=float32), array(0.04230296611785889, dtype=float32)]\n",
      "12362 Increasing seq length to:  175\n",
      "12500 [array(0.017240066081285477, dtype=float32), array(0.019139492884278297, dtype=float32), array(0.21982279419898987, dtype=float32)]\n",
      "12569 Increasing seq length to:  180\n",
      "12623 Increasing seq length to:  185\n",
      "12715 Increasing seq length to:  190\n",
      "12718 Increasing seq length to:  195\n",
      "13000 [array(0.0014492194168269634, dtype=float32), array(0.003262732643634081, dtype=float32), array(0.02214205078780651, dtype=float32)]\n",
      "13035 Increasing seq length to:  200\n"
     ]
    },
    {
     "data": {
      "text/plain": [
       "<matplotlib.text.Text at 0x7fe611f95cd0>"
      ]
     },
     "execution_count": 12,
     "metadata": {},
     "output_type": "execute_result"
    },
    {
     "data": {
      "image/png": "[encoded data removed]",
      "text/plain": [
       "<matplotlib.figure.Figure at 0x7fe5dc6b9250>"
      ]
     },
     "metadata": {},
     "output_type": "display_data"
    }
   ],
   "source": [
    "addition_net.initialize()\n",
    "\n",
    "if addition_net.use_lstm:\n",
    "    addition_trainer.lrate.set_value(1e-2)\n",
    "else:\n",
    "    addition_trainer.lrate.set_value(1e-3)\n",
    "addition_trainer.max_grad_norm.set_value(4.)\n",
    "# weight decay seems to be important for generalization\n",
    "addition_trainer.wdec.set_value(1e-4)\n",
    "\n",
    "losses = []\n",
    "\n",
    "seq_len = 20\n",
    "# this enables \"curriculum learning\" - we gradually train on \n",
    "# longer and longer sequences\n",
    "max_seq_len = 200\n",
    "try:\n",
    "    for i in xrange(300000):\n",
    "        this_len = np.random.randint(10, seq_len+1)\n",
    "        Xa, Ya = generate_addition_example(this_len, 100)\n",
    "        ret = addition_trainer.train_function(Xa, Ya)\n",
    "        losses.append((i,) + tuple(ret))\n",
    "        if this_len>seq_len*0.9 and ret[0] < 0.0008:\n",
    "            seq_len += 5\n",
    "            if seq_len>max_seq_len:\n",
    "                break\n",
    "            print i, \"Increasing seq length to: \", seq_len\n",
    "        if i%500 == 0:\n",
    "            print i, ret\n",
    "\n",
    "except KeyboardInterrupt:\n",
    "    pass\n",
    "\n",
    "\n",
    "losses_a = np.array(losses)\n",
    "\n",
    "semilogy(losses_a[:,0], losses_a[:,1], label='rms')\n",
    "semilogy(losses_a[:,0], losses_a[:,1], alpha=0.5, label='rms + wdec')\n",
    "plot(losses_a[:,0], losses_a[:,2], alpha=0.5, label='grad norm')\n",
    "\n",
    "legend(loc='lower left')\n",
    "title('Training loss')\n",
    "xlabel('iteration')"
   ]
  },
  {
   "cell_type": "code",
   "execution_count": 14,
   "metadata": {
    "collapsed": false
   },
   "outputs": [
    {
     "data": {
      "text/plain": [
       "array(0.014240331947803497, dtype=float32)"
      ]
     },
     "execution_count": 14,
     "metadata": {},
     "output_type": "execute_result"
    }
   ],
   "source": [
    "Xa, Ya = generate_addition_example(1000,100)\n",
    "addition_test_function(Xa, Ya)"
   ]
  },
  {
   "cell_type": "code",
   "execution_count": 47,
   "metadata": {
    "collapsed": false
   },
   "outputs": [
    {
     "name": "stdout",
     "output_type": "stream",
     "text": [
      "done\n"
     ]
    }
   ],
   "source": [
    "err_list = []\n",
    "for t in xrange(10,3011,50):\n",
    "    Xa, Ya = generate_addition_example(t,200)\n",
    "    err_list.append(addition_test_function(Xa, Ya))\n",
    "    \n",
    "print \"done\""
   ]
  },
  {
   "cell_type": "code",
   "execution_count": 68,
   "metadata": {
    "collapsed": false
   },
   "outputs": [
    {
     "data": {
      "text/plain": [
       "<matplotlib.legend.Legend at 0x7fe5a54b1590>"
      ]
     },
     "execution_count": 68,
     "metadata": {},
     "output_type": "execute_result"
    },
    {
     "data": {
      "image/png": "[encoded data removed]",
      "text/plain": [
       "<matplotlib.figure.Figure at 0x7fe5a554b350>"
      ]
     },
     "metadata": {},
     "output_type": "display_data"
    }
   ],
   "source": [
    "err_l = err_list\n",
    "semilogy(xrange(10, 3011, 50), err_l, label=\"mean square error\")\n",
    "semilogy(xrange(0, 3500, 50), [0.167]*len(xrange(0, 3500, 50)), label=\"base line (0.167)\")\n",
    "legend(loc=\"lower right\")"
   ]
  }
 ],
 "metadata": {
  "kernelspec": {
   "display_name": "Python 2",
   "language": "python",
   "name": "python2"
  },
  "language_info": {
   "codemirror_mode": {
    "name": "ipython",
    "version": 2
   },
   "file_extension": ".py",
   "mimetype": "text/x-python",
   "name": "python",
   "nbconvert_exporter": "python",
   "pygments_lexer": "ipython2",
   "version": "2.7.10"
  }
 },
 "nbformat": 4,
 "nbformat_minor": 0
}
